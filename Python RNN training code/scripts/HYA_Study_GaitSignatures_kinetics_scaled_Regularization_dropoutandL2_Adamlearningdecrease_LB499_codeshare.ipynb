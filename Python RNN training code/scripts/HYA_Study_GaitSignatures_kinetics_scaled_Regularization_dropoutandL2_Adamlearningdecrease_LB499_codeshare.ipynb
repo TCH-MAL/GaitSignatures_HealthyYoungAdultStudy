{
 "cells": [
  {
   "cell_type": "code",
   "execution_count": 1,
   "id": "2bf82588",
   "metadata": {},
   "outputs": [
    {
     "name": "stdout",
     "output_type": "stream",
     "text": [
      "Mon Mar 18 13:19:10 2024       \n",
      "+-----------------------------------------------------------------------------+\n",
      "| NVIDIA-SMI 460.91.03    Driver Version: 460.91.03    CUDA Version: 11.2     |\n",
      "|-------------------------------+----------------------+----------------------+\n",
      "| GPU  Name        Persistence-M| Bus-Id        Disp.A | Volatile Uncorr. ECC |\n",
      "| Fan  Temp  Perf  Pwr:Usage/Cap|         Memory-Usage | GPU-Util  Compute M. |\n",
      "|                               |                      |               MIG M. |\n",
      "|===============================+======================+======================|\n",
      "|   0  GeForce RTX 208...  Off  | 00000000:08:00.0 Off |                  N/A |\n",
      "| 81%   86C    P2   200W / 260W |  10016MiB / 11019MiB |     68%      Default |\n",
      "|                               |                      |                  N/A |\n",
      "+-------------------------------+----------------------+----------------------+\n",
      "|   1  GeForce RTX 208...  Off  | 00000000:42:00.0 Off |                  N/A |\n",
      "| 41%   32C    P8    20W / 260W |  10789MiB / 11019MiB |      0%      Default |\n",
      "|                               |                      |                  N/A |\n",
      "+-------------------------------+----------------------+----------------------+\n",
      "|   2  GeForce RTX 208...  Off  | 00000000:43:00.0 Off |                  N/A |\n",
      "| 41%   37C    P8     3W / 260W |  10881MiB / 11018MiB |      0%      Default |\n",
      "|                               |                      |                  N/A |\n",
      "+-------------------------------+----------------------+----------------------+\n",
      "                                                                               \n",
      "+-----------------------------------------------------------------------------+\n",
      "| Processes:                                                                  |\n",
      "|  GPU   GI   CI        PID   Type   Process name                  GPU Memory |\n",
      "|        ID   ID                                                   Usage      |\n",
      "|=============================================================================|\n",
      "|    0   N/A  N/A      1822      G   /usr/lib/xorg/Xorg                  4MiB |\n",
      "|    0   N/A  N/A     26935      C   ...a3/envs/rnnenv/bin/python      293MiB |\n",
      "|    0   N/A  N/A     49584      C   ...3/envs/dannce2/bin/python     9715MiB |\n",
      "|    1   N/A  N/A      1822      G   /usr/lib/xorg/Xorg                  4MiB |\n",
      "|    1   N/A  N/A     17350      C   ...da3/envs/newtf/bin/python      359MiB |\n",
      "|    1   N/A  N/A     26935      C   ...a3/envs/rnnenv/bin/python      293MiB |\n",
      "|    1   N/A  N/A     79829      C   ...da3/envs/newtf/bin/python    10129MiB |\n",
      "|    2   N/A  N/A      1822      G   /usr/lib/xorg/Xorg                  9MiB |\n",
      "|    2   N/A  N/A      2213      G   /usr/bin/gnome-shell                6MiB |\n",
      "|    2   N/A  N/A     26935      C   ...a3/envs/rnnenv/bin/python      293MiB |\n",
      "|    2   N/A  N/A     83730      C   .../Vanessa-tmaze/bin/python    10567MiB |\n",
      "+-----------------------------------------------------------------------------+\n"
     ]
    }
   ],
   "source": [
    "get_ipython().system('nvidia-smi')"
   ]
  },
  {
   "cell_type": "code",
   "execution_count": 2,
   "id": "51dce953",
   "metadata": {},
   "outputs": [],
   "source": [
    "import os\n",
    "os.environ[\"TF_CPP_MIN_LOG_LEVEL\"]=\"3\"\n",
    "os.environ[\"CUDA_VISIBLE_DEVICES\"]=\"1\"\n",
    "import tensorflow as tf"
   ]
  },
  {
   "cell_type": "code",
   "execution_count": 3,
   "id": "bb047790",
   "metadata": {},
   "outputs": [
    {
     "data": {
      "text/plain": [
       "[PhysicalDevice(name='/physical_device:GPU:0', device_type='GPU')]"
      ]
     },
     "execution_count": 3,
     "metadata": {},
     "output_type": "execute_result"
    }
   ],
   "source": [
    "tf.config.list_physical_devices(\"GPU\")"
   ]
  },
  {
   "cell_type": "code",
   "execution_count": 4,
   "id": "3fbf7ed2",
   "metadata": {},
   "outputs": [],
   "source": [
    "#!pip install tqdm"
   ]
  },
  {
   "cell_type": "code",
   "execution_count": 5,
   "id": "969a220a",
   "metadata": {},
   "outputs": [],
   "source": [
    "from keras.models import Sequential\n",
    "from keras.layers import Dense\n",
    "from tensorflow.keras import regularizers  \n",
    "from tensorflow.python.keras.layers.recurrent import LSTM\n",
    "from tensorflow.keras import layers\n",
    "from tensorflow.keras.optimizers import Adam\n",
    "from sklearn.model_selection import train_test_split\n",
    "import sklearn.model_selection as model_selection\n",
    "import matplotlib.pyplot as plt\n",
    "import math\n",
    "import keras as k\n",
    "import pandas as pd\n",
    "import numpy as np\n",
    "from copy import copy\n",
    "import scipy.io\n",
    "from sklearn.decomposition import PCA\n",
    "import random\n",
    "from scipy.signal import find_peaks\n",
    "from scipy import interpolate\n",
    "from numpy import sin,cos,pi,array,linspace,cumsum,asarray,dot,ones\n",
    "from pylab import plot, legend, axis, show, randint, randn, std,lstsq\n",
    "\n",
    "from sklearn.manifold import MDS\n",
    "import csv\n",
    "import os\n",
    "from pandas import read_csv\n",
    "import ranges\n",
    "from sklearn.preprocessing import StandardScaler\n",
    "from sklearn.metrics import r2_score\n",
    "from scipy.special import iv\n",
    "\n",
    "from sklearn.manifold import MDS\n",
    "import csv\n",
    "import os\n",
    "from tqdm import tqdm \n",
    "from scipy import stats\n",
    "import statistics"
   ]
  },
  {
   "cell_type": "code",
   "execution_count": 6,
   "id": "4b792c96",
   "metadata": {},
   "outputs": [],
   "source": [
    "# The path to save the models and read data from\n",
    "\n",
    "### !!! please create and name the main folder that you would like to save all results -- ensure that the functions and data files are in this folder\n",
    "folder = 'YA_Analysis'\n",
    "\n",
    "path = '/home/twinner/'+ folder\n",
    "\n",
    "# Insert the directory\n",
    "import sys\n",
    "sys.path.insert(0,path)\n"
   ]
  },
  {
   "cell_type": "code",
   "execution_count": 7,
   "id": "372e8eec",
   "metadata": {},
   "outputs": [
    {
     "name": "stdout",
     "output_type": "stream",
     "text": [
      "kinetics input data shape is: (42, 900000)\n",
      "Speed data shape is: (150, 1)\n",
      "SubjectID shape is: (150, 1)\n"
     ]
    }
   ],
   "source": [
    "# Define these variables  specifically for your dataset!\n",
    "\n",
    "# number of samples in each trial\n",
    "trialsamp = 6000 #time series (samples) per trial\n",
    "\n",
    "\n",
    "# Choose the maximum number of iterations to train the model\n",
    "finalepoch = 10000\n",
    "\n",
    "# load the input data\n",
    "# -------------------2D kinematics ----------------------------\n",
    "#datafilepath0 = path + '/DataStorage_6000_2D_kinematics_clean.csv' # path to input data\n",
    "#inputdata = read_csv(datafilepath0, header = None)\n",
    "#inputdata = inputdata.to_numpy()\n",
    "#print('2D kinematics input data shape is: '+ str(inputdata.shape ))\n",
    "\n",
    "#arr = all_csvnp.to_numpy() #convert to numpy array\n",
    "\n",
    "# reshape all the input data into a tensor\n",
    "#all_inputdata = arr.reshape(trialnum,trialsamp,feats) \n",
    "#all_inputdata = arr # if tensor not needed\n",
    "\n",
    "\n",
    "# ------------------- 3D kinematics ----------------------------\n",
    "\n",
    "#datafilepath1 = path + '/DataStorage_6000_3D_kinematics_clean.csv' # path to input data\n",
    "#inputdata = read_csv(datafilepath1, header = None)\n",
    "#inputdata = inputdata.to_numpy()\n",
    "#print('3D kinematics input data shape is: '+ str(inputdata.shape ))\n",
    "\n",
    "# ------------------- kinetics ----------------------------\n",
    "\n",
    "datafilepath2 = path + '/DataStorage_6000_kinetics_clean_031524.csv' # path to input data\n",
    "inputdata = read_csv(datafilepath2, header = None)\n",
    "inputdata = inputdata.to_numpy()\n",
    "print('kinetics input data shape is: '+ str(inputdata.shape ))\n",
    "\n",
    "\n",
    "# ------------------- 3D kinematics + kinetics ----------------------------\n",
    "\n",
    "#datafilepath = path + '/DataStorage_6000_kinematics_and_kinetics_clean.csv' # path to input data\n",
    "#inputdata = read_csv(datafilepath, header = None)\n",
    "#inputdata = inputdata.to_numpy()\n",
    "#print('3D kinematics + kinetics input data shape is: '+ str(inputdata.shape ))\n",
    "\n",
    "\n",
    "\n",
    "# -------------------- Load in predictor variable----------------------------\n",
    "\n",
    "\n",
    "# Load in the Speeds\n",
    "datafilepath6 = path + '/speeds_label.csv' # path to input data\n",
    "keydata = read_csv(datafilepath6, header = None)\n",
    "speed = keydata.to_numpy() #convert to numpy array\n",
    "print('Speed data shape is: '+ str(speed.shape ))\n",
    "\n",
    "\n",
    "# Load in the Individuals\n",
    "datafilepath7 = path + '/subject_num_label.csv' # path to input data\n",
    "keydata = read_csv(datafilepath7, header = None)\n",
    "SubjectID = keydata.to_numpy() #convert to numpy array\n",
    "print('SubjectID shape is: '+ str(SubjectID.shape ))\n",
    "\n",
    "\n",
    "# number of trials in dataset \n",
    "trialnum = len(speed) #subjects and speeds\n",
    "\n",
    "#Batch size - same as the number of trials\n",
    "batch_size = trialnum\n",
    "\n",
    "inshape = inputdata.shape[1]\n",
    "feats = inputdata.shape[0]\n",
    "\n",
    "#data_type = '_Paper2_2Dkinematics_gaitsigs'\n",
    "\n",
    "mod_name = '/Paper2_kinetics_gaitsigs/'\n",
    "model_name  = 'kinetics_UPDATE_gaitsigs_reg_adam_LB499_031524'"
   ]
  },
  {
   "cell_type": "markdown",
   "id": "dc683c12",
   "metadata": {},
   "source": [
    "### Scale the input data - double check if transpose needed"
   ]
  },
  {
   "cell_type": "code",
   "execution_count": 8,
   "id": "92c535ce",
   "metadata": {},
   "outputs": [
    {
     "name": "stdout",
     "output_type": "stream",
     "text": [
      "scaled input data shape is: (900000, 42)\n",
      "[-2.90744786e-02  1.74249685e-04  5.23018437e-01  2.54287476e-02\n",
      " -2.97598540e-01 -3.82393551e-02  1.33368856e-01 -1.17689659e-01\n",
      " -2.13341646e-02  2.60709191e-01 -5.46393794e-02  2.53734600e-02\n",
      "  1.84961260e-01 -2.11480678e-02  1.63662834e-02 -2.68949607e-01\n",
      " -5.20380649e-04 -3.79008011e-03  2.06052324e-01 -7.66964350e-03\n",
      " -1.07300883e-02  2.99902781e-02  7.42052032e-04  5.22689876e-01\n",
      "  5.08727790e-02 -4.20799949e-01 -3.45347572e-02  1.28246152e-01\n",
      " -1.61489554e-01 -3.18776904e-02  2.62103313e-01 -3.29461704e-02\n",
      " -3.13519761e-02 -1.40096181e-01 -2.03405653e-02 -3.92090833e-04\n",
      "  2.70889636e-01  7.26005440e-03 -1.32760445e-02 -1.87089945e-01\n",
      "  6.28420423e-03 -1.65619282e-02]\n",
      "[0.00137701 0.01034958 0.2328737  0.25050545 0.18749745 0.02104844\n",
      " 0.18899963 0.06533182 0.00475222 0.32343474 0.01556303 0.01238052\n",
      " 0.70771144 0.17317825 0.0327975  0.96082804 0.02982196 0.01470096\n",
      " 1.23797003 0.01572847 0.00419104 0.00146604 0.01034774 0.23601757\n",
      " 0.26029908 0.30046548 0.03476185 0.19307714 0.07413599 0.00914108\n",
      " 0.30408928 0.0257109  0.02157882 0.70676646 0.31571342 0.03792469\n",
      " 0.91027346 0.04193263 0.01673989 1.18523669 0.01514054 0.00593952]\n"
     ]
    }
   ],
   "source": [
    "from sklearn.preprocessing import StandardScaler\n",
    "from sklearn.preprocessing import MinMaxScaler\n",
    "scaler =  StandardScaler()  #MinMaxScaler()\n",
    "scaler.fit(inputdata.T) # fit scaler on training data only \n",
    "\n",
    "# scale all the input data \n",
    "inputdata_s = scaler.transform(inputdata.T) #transform\n",
    "print('scaled input data shape is: '+ str(inputdata_s.shape ))\n",
    "print(scaler.mean_) # to get the mean for every column\n",
    "print(scaler.var_) # to get the variance for every column\n",
    "scipy.io.savemat(path + mod_name + model_name  + '_ScalarMean.mat', {'scaled_mean': scaler.mean_})\n",
    "scipy.io.savemat(path + mod_name + model_name  + '_ScalarVar.mat', {'scaled_var': scaler.var_})\n"
   ]
  },
  {
   "cell_type": "code",
   "execution_count": 9,
   "id": "9cd2c710",
   "metadata": {},
   "outputs": [],
   "source": [
    "all_inputdata_s = inputdata_s.reshape(trialnum,trialsamp,feats) \n",
    "#plt.plot(all_inputdata_s[5,:,:])"
   ]
  },
  {
   "cell_type": "code",
   "execution_count": 10,
   "id": "5671a1cf",
   "metadata": {},
   "outputs": [
    {
     "name": "stdout",
     "output_type": "stream",
     "text": [
      "2D kinematics input data shape is: (6, 900000)\n",
      "scaled input data shape is: (900000, 6)\n",
      "[13.71962805 28.07435579 -2.80067233 11.86202612 25.91379481 -2.49182512]\n",
      "[455.51667784 494.96420373  79.26879004 433.98914577 476.83835588\n",
      "  73.64452848]\n"
     ]
    }
   ],
   "source": [
    "# Load 2D kimematics for phaser\n",
    "\n",
    "# -------------------2D kinematics ----------------------------\n",
    "datafilepath0 = path + '/DataStorage_6000_2D_kinematics_clean.csv' # path to input data\n",
    "phaserinputdata = read_csv(datafilepath0, header = None)\n",
    "phaserinputdata = phaserinputdata.to_numpy()\n",
    "print('2D kinematics input data shape is: '+ str(phaserinputdata.shape ))\n",
    "\n",
    "from sklearn.preprocessing import StandardScaler\n",
    "from sklearn.preprocessing import MinMaxScaler\n",
    "scaler =  StandardScaler()  #MinMaxScaler()\n",
    "scaler.fit(phaserinputdata.T) # fit scaler on training data only \n",
    "\n",
    "# scale all the input data \n",
    "phaserinputdata_s = scaler.transform(phaserinputdata.T) #transform\n",
    "print('scaled input data shape is: '+ str(phaserinputdata_s.shape ))\n",
    "print(scaler.mean_) # to get the mean for every column\n",
    "print(scaler.var_) # to get the variance for every column\n",
    "\n",
    "all_phaserinputdata_s = phaserinputdata_s.reshape(trialnum,trialsamp,6) \n",
    "# update the phaser algorithm as follows \n",
    "#raw = all_phaserinputdata_s[a,:,[0,3]] #update in the phaser part of algorithm"
   ]
  },
  {
   "cell_type": "code",
   "execution_count": 12,
   "id": "8bf93b55",
   "metadata": {},
   "outputs": [
    {
     "name": "stdout",
     "output_type": "stream",
     "text": [
      "WARNING:tensorflow:From /tmp/ipykernel_87240/3354559565.py:28: The name tf.keras.layers.CuDNNLSTM is deprecated. Please use tf.compat.v1.keras.layers.CuDNNLSTM instead.\n",
      "\n"
     ]
    }
   ],
   "source": [
    "# reshape all the input data into a tensor\n",
    "all_inputdata_s = inputdata_s.reshape(trialnum,trialsamp,feats) \n",
    "#all_inputdata_s = np.reshape(inputdata_s, (trialnum,trialsamp,feats), order='F')\n",
    "\n",
    "csvnp = all_inputdata_s #unscaled\n",
    "\n",
    "# Number of Units\n",
    "numunits = 512\n",
    "\n",
    "lookback = 499\n",
    "\n",
    "# Select the 1st X segments to be training\n",
    "trainseg = 8\n",
    "\n",
    "# Select the last Y segments to be validation\n",
    "valseg = 4\n",
    "\n",
    "# Set up training and validation input and output sequences\n",
    "trainx = np.concatenate([csvnp[:,i*lookback:(i+1)*lookback,:] for i in range(trainseg)], axis=0)\n",
    "trainy = np.concatenate([csvnp[:,i*lookback+1:(i+1)*lookback+1,:] for i in range(trainseg)], axis=0)\n",
    "\n",
    "valindex = (lookback+1)*trainseg\n",
    "valx = np.concatenate([csvnp[:,valindex+i*lookback:valindex+(i+1)*lookback,:] for i in range(valseg)], axis=0)\n",
    "valy = np.concatenate([csvnp[:,valindex+1+i*lookback:valindex+1+(i+1)*lookback,:] for i in range(valseg)], axis=0)\n",
    "\n",
    "# ignore graph execution error - close other files, restart kernel and rerun\n",
    "model=k.models.Sequential()\n",
    "model.add(tf.compat.v1.keras.layers.CuDNNLSTM(units = numunits, stateful=True, return_sequences=True, batch_input_shape =(batch_size,lookback,feats)))\n",
    "model.add(layers.Dropout(0.2))  # Adding dropout with a 20% dropout rate\n",
    "model.add(layers.Dense(units=feats, kernel_regularizer=regularizers.l2(0.01)))  # Adding L2 regularization with a regularization strength of 0.01\n",
    "\n",
    "\n",
    "# Define a custom learning rate\n",
    "custom_learning_rate = 0.0001  # default = 0.001\n",
    "\n",
    "# Create an Adam optimizer with the custom learning rate\n",
    "custom_optimizer = Adam(learning_rate=custom_learning_rate)\n",
    "\n",
    "#model.add(tf.compat.v1.keras.layers.Dense(units=feats))\n",
    "\n",
    "# compile model\n",
    "model.compile(loss='mse', optimizer= custom_optimizer,metrics=['accuracy'])\n",
    "\n",
    "# train the model using training and validation\n",
    "checkpoint_cb = k.callbacks.ModelCheckpoint(path + mod_name + model_name + '_bestwhole.h5',save_best_only = True)\n",
    "early_stopping_cb = k.callbacks.EarlyStopping(patience = 200,restore_best_weights = True)\n",
    "history = model.fit(trainx,trainy,batch_size=trialnum,epochs=finalepoch, validation_data=(valx,valy),shuffle=False, verbose=0,callbacks= [checkpoint_cb,early_stopping_cb])\n",
    "\n",
    "# Save history|\n",
    "np.save(path + mod_name + model_name +  '_history_loss.npy', history.history['loss'])\n",
    "np.save(path + mod_name + model_name +  '_history_val_loss.npy', history.history['val_loss'])"
   ]
  },
  {
   "cell_type": "code",
   "execution_count": 13,
   "id": "49b2cd85",
   "metadata": {
    "scrolled": false
   },
   "outputs": [
    {
     "data": {
      "image/png": "[encoded data removed]",
      "text/plain": [
       "<Figure size 2000x1500 with 1 Axes>"
      ]
     },
     "metadata": {},
     "output_type": "display_data"
    }
   ],
   "source": [
    "# Plot the training and validation loss curve \n",
    "fig = plt.figure(figsize=(20,15))\n",
    "loss_train = history.history['loss']\n",
    "loss_val = history.history['val_loss']\n",
    "epochs = np.array(range(1,len(loss_train)+1))\n",
    "epshift = epochs - 0.5\n",
    "plt.plot(epshift,loss_train, 'g', label='Training loss')\n",
    "plt.plot(epochs, loss_val, 'b', label='validation loss') # account for shift in Val loss curve\n",
    "plt.yscale('log', base=10) #scale the y axis - base 10\n",
    "plt.title('Training and Validation loss')\n",
    "plt.xlabel('Epochs')\n",
    "plt.ylabel('Loss')\n",
    "plt.legend(loc=\"upper right\")\n",
    "\n",
    "plt.savefig(path + mod_name + model_name  + '_Training_vs_Validation.png', dpi = 300)\n",
    "plt.show()\n",
    "#plt.close(fig)# close figure in loop\n",
    "\n",
    "# save minumum training and validation loss\n",
    "min_val_loss = np.min(loss_val)\n",
    "min_train_loss = np.min(loss_train)\n",
    "\n",
    "np.save(path + mod_name + model_name  + '_MIN_val_loss.npy', min_val_loss)\n",
    "np.save(path + mod_name + model_name +  '_MIN_train_loss.npy', min_train_loss)"
   ]
  },
  {
   "cell_type": "code",
   "execution_count": 14,
   "id": "cceaf1de",
   "metadata": {},
   "outputs": [],
   "source": [
    "# To stop output to client from server\n",
    "#NotebookApp.iopub_msg_rate_limit=1000.0 (msgs/sec)\n",
    "#NotebookApp.rate_limit_window=3.0 (secs)"
   ]
  },
  {
   "cell_type": "code",
   "execution_count": 15,
   "id": "4f1f1ba8",
   "metadata": {
    "scrolled": false
   },
   "outputs": [
    {
     "name": "stdout",
     "output_type": "stream",
     "text": [
      "external HCs parsed: 1 of 150\n"
     ]
    },
    {
     "name": "stderr",
     "output_type": "stream",
     "text": [
      "100%|██████████| 6000/6000 [07:12<00:00, 13.89it/s]\n"
     ]
    },
    {
     "name": "stdout",
     "output_type": "stream",
     "text": [
      "external HCs parsed: 2 of 150\n"
     ]
    },
    {
     "name": "stderr",
     "output_type": "stream",
     "text": [
      "100%|██████████| 6000/6000 [07:11<00:00, 13.89it/s]\n"
     ]
    },
    {
     "name": "stdout",
     "output_type": "stream",
     "text": [
      "external HCs parsed: 3 of 150\n"
     ]
    },
    {
     "name": "stderr",
     "output_type": "stream",
     "text": [
      "100%|██████████| 6000/6000 [07:12<00:00, 13.86it/s]\n"
     ]
    },
    {
     "name": "stdout",
     "output_type": "stream",
     "text": [
      "external HCs parsed: 4 of 150\n"
     ]
    },
    {
     "name": "stderr",
     "output_type": "stream",
     "text": [
      "100%|██████████| 6000/6000 [07:05<00:00, 14.11it/s]\n"
     ]
    },
    {
     "name": "stdout",
     "output_type": "stream",
     "text": [
      "external HCs parsed: 5 of 150\n"
     ]
    },
    {
     "name": "stderr",
     "output_type": "stream",
     "text": [
      "100%|██████████| 6000/6000 [07:08<00:00, 14.01it/s]\n"
     ]
    },
    {
     "name": "stdout",
     "output_type": "stream",
     "text": [
      "external HCs parsed: 6 of 150\n"
     ]
    },
    {
     "name": "stderr",
     "output_type": "stream",
     "text": [
      "100%|██████████| 6000/6000 [07:10<00:00, 13.92it/s]\n"
     ]
    },
    {
     "name": "stdout",
     "output_type": "stream",
     "text": [
      "external HCs parsed: 7 of 150\n"
     ]
    },
    {
     "name": "stderr",
     "output_type": "stream",
     "text": [
      "100%|██████████| 6000/6000 [07:08<00:00, 14.01it/s]\n"
     ]
    },
    {
     "name": "stdout",
     "output_type": "stream",
     "text": [
      "external HCs parsed: 8 of 150\n"
     ]
    },
    {
     "name": "stderr",
     "output_type": "stream",
     "text": [
      "100%|██████████| 6000/6000 [07:09<00:00, 13.97it/s]\n"
     ]
    },
    {
     "name": "stdout",
     "output_type": "stream",
     "text": [
      "external HCs parsed: 9 of 150\n"
     ]
    },
    {
     "name": "stderr",
     "output_type": "stream",
     "text": [
      "100%|██████████| 6000/6000 [07:08<00:00, 14.01it/s]\n"
     ]
    },
    {
     "name": "stdout",
     "output_type": "stream",
     "text": [
      "external HCs parsed: 10 of 150\n"
     ]
    },
    {
     "name": "stderr",
     "output_type": "stream",
     "text": [
      "100%|██████████| 6000/6000 [07:04<00:00, 14.14it/s]\n"
     ]
    },
    {
     "name": "stdout",
     "output_type": "stream",
     "text": [
      "external HCs parsed: 11 of 150\n"
     ]
    },
    {
     "name": "stderr",
     "output_type": "stream",
     "text": [
      "100%|██████████| 6000/6000 [07:11<00:00, 13.91it/s]\n"
     ]
    },
    {
     "name": "stdout",
     "output_type": "stream",
     "text": [
      "external HCs parsed: 12 of 150\n"
     ]
    },
    {
     "name": "stderr",
     "output_type": "stream",
     "text": [
      "100%|██████████| 6000/6000 [07:06<00:00, 14.08it/s]\n"
     ]
    },
    {
     "name": "stdout",
     "output_type": "stream",
     "text": [
      "external HCs parsed: 13 of 150\n"
     ]
    },
    {
     "name": "stderr",
     "output_type": "stream",
     "text": [
      "100%|██████████| 6000/6000 [07:04<00:00, 14.12it/s]\n"
     ]
    },
    {
     "name": "stdout",
     "output_type": "stream",
     "text": [
      "external HCs parsed: 14 of 150\n"
     ]
    },
    {
     "name": "stderr",
     "output_type": "stream",
     "text": [
      "100%|██████████| 6000/6000 [07:05<00:00, 14.09it/s]\n"
     ]
    },
    {
     "name": "stdout",
     "output_type": "stream",
     "text": [
      "external HCs parsed: 15 of 150\n"
     ]
    },
    {
     "name": "stderr",
     "output_type": "stream",
     "text": [
      "100%|██████████| 6000/6000 [07:05<00:00, 14.10it/s]\n"
     ]
    },
    {
     "name": "stdout",
     "output_type": "stream",
     "text": [
      "external HCs parsed: 16 of 150\n"
     ]
    },
    {
     "name": "stderr",
     "output_type": "stream",
     "text": [
      "100%|██████████| 6000/6000 [07:05<00:00, 14.11it/s]\n"
     ]
    },
    {
     "name": "stdout",
     "output_type": "stream",
     "text": [
      "external HCs parsed: 17 of 150\n"
     ]
    },
    {
     "name": "stderr",
     "output_type": "stream",
     "text": [
      "100%|██████████| 6000/6000 [07:08<00:00, 13.99it/s]\n"
     ]
    },
    {
     "name": "stdout",
     "output_type": "stream",
     "text": [
      "external HCs parsed: 18 of 150\n"
     ]
    },
    {
     "name": "stderr",
     "output_type": "stream",
     "text": [
      "100%|██████████| 6000/6000 [07:07<00:00, 14.03it/s]\n"
     ]
    },
    {
     "name": "stdout",
     "output_type": "stream",
     "text": [
      "external HCs parsed: 19 of 150\n"
     ]
    },
    {
     "name": "stderr",
     "output_type": "stream",
     "text": [
      "100%|██████████| 6000/6000 [07:08<00:00, 13.99it/s]\n"
     ]
    },
    {
     "name": "stdout",
     "output_type": "stream",
     "text": [
      "external HCs parsed: 20 of 150\n"
     ]
    },
    {
     "name": "stderr",
     "output_type": "stream",
     "text": [
      "100%|██████████| 6000/6000 [07:04<00:00, 14.13it/s]\n"
     ]
    },
    {
     "name": "stdout",
     "output_type": "stream",
     "text": [
      "external HCs parsed: 21 of 150\n"
     ]
    },
    {
     "name": "stderr",
     "output_type": "stream",
     "text": [
      "100%|██████████| 6000/6000 [07:08<00:00, 14.00it/s]\n"
     ]
    },
    {
     "name": "stdout",
     "output_type": "stream",
     "text": [
      "external HCs parsed: 22 of 150\n"
     ]
    },
    {
     "name": "stderr",
     "output_type": "stream",
     "text": [
      "100%|██████████| 6000/6000 [07:04<00:00, 14.12it/s]\n"
     ]
    },
    {
     "name": "stdout",
     "output_type": "stream",
     "text": [
      "external HCs parsed: 23 of 150\n"
     ]
    },
    {
     "name": "stderr",
     "output_type": "stream",
     "text": [
      "100%|██████████| 6000/6000 [07:06<00:00, 14.06it/s]\n"
     ]
    },
    {
     "name": "stdout",
     "output_type": "stream",
     "text": [
      "external HCs parsed: 24 of 150\n"
     ]
    },
    {
     "name": "stderr",
     "output_type": "stream",
     "text": [
      "100%|██████████| 6000/6000 [07:03<00:00, 14.17it/s]\n"
     ]
    },
    {
     "name": "stdout",
     "output_type": "stream",
     "text": [
      "external HCs parsed: 25 of 150\n"
     ]
    },
    {
     "name": "stderr",
     "output_type": "stream",
     "text": [
      "100%|██████████| 6000/6000 [07:07<00:00, 14.03it/s]\n"
     ]
    },
    {
     "name": "stdout",
     "output_type": "stream",
     "text": [
      "external HCs parsed: 26 of 150\n"
     ]
    },
    {
     "name": "stderr",
     "output_type": "stream",
     "text": [
      "100%|██████████| 6000/6000 [07:05<00:00, 14.10it/s]\n"
     ]
    },
    {
     "name": "stdout",
     "output_type": "stream",
     "text": [
      "external HCs parsed: 27 of 150\n"
     ]
    },
    {
     "name": "stderr",
     "output_type": "stream",
     "text": [
      "100%|██████████| 6000/6000 [07:07<00:00, 14.02it/s]\n"
     ]
    },
    {
     "name": "stdout",
     "output_type": "stream",
     "text": [
      "external HCs parsed: 28 of 150\n"
     ]
    },
    {
     "name": "stderr",
     "output_type": "stream",
     "text": [
      "100%|██████████| 6000/6000 [07:06<00:00, 14.06it/s]\n"
     ]
    },
    {
     "name": "stdout",
     "output_type": "stream",
     "text": [
      "external HCs parsed: 29 of 150\n"
     ]
    },
    {
     "name": "stderr",
     "output_type": "stream",
     "text": [
      "100%|██████████| 6000/6000 [07:06<00:00, 14.06it/s]\n"
     ]
    },
    {
     "name": "stdout",
     "output_type": "stream",
     "text": [
      "external HCs parsed: 30 of 150\n"
     ]
    },
    {
     "name": "stderr",
     "output_type": "stream",
     "text": [
      "100%|██████████| 6000/6000 [07:09<00:00, 13.98it/s]\n"
     ]
    },
    {
     "name": "stdout",
     "output_type": "stream",
     "text": [
      "external HCs parsed: 31 of 150\n"
     ]
    },
    {
     "name": "stderr",
     "output_type": "stream",
     "text": [
      "100%|██████████| 6000/6000 [07:08<00:00, 14.01it/s]\n"
     ]
    },
    {
     "name": "stdout",
     "output_type": "stream",
     "text": [
      "external HCs parsed: 32 of 150\n"
     ]
    },
    {
     "name": "stderr",
     "output_type": "stream",
     "text": [
      "100%|██████████| 6000/6000 [07:08<00:00, 13.99it/s]\n"
     ]
    },
    {
     "name": "stdout",
     "output_type": "stream",
     "text": [
      "external HCs parsed: 33 of 150\n"
     ]
    },
    {
     "name": "stderr",
     "output_type": "stream",
     "text": [
      "100%|██████████| 6000/6000 [07:07<00:00, 14.03it/s]\n"
     ]
    },
    {
     "name": "stdout",
     "output_type": "stream",
     "text": [
      "external HCs parsed: 34 of 150\n"
     ]
    },
    {
     "name": "stderr",
     "output_type": "stream",
     "text": [
      "100%|██████████| 6000/6000 [07:08<00:00, 14.01it/s]\n"
     ]
    },
    {
     "name": "stdout",
     "output_type": "stream",
     "text": [
      "external HCs parsed: 35 of 150\n"
     ]
    },
    {
     "name": "stderr",
     "output_type": "stream",
     "text": [
      "100%|██████████| 6000/6000 [07:09<00:00, 13.96it/s]\n"
     ]
    },
    {
     "name": "stdout",
     "output_type": "stream",
     "text": [
      "external HCs parsed: 36 of 150\n"
     ]
    },
    {
     "name": "stderr",
     "output_type": "stream",
     "text": [
      "100%|██████████| 6000/6000 [07:09<00:00, 13.97it/s]\n"
     ]
    },
    {
     "name": "stdout",
     "output_type": "stream",
     "text": [
      "external HCs parsed: 37 of 150\n"
     ]
    },
    {
     "name": "stderr",
     "output_type": "stream",
     "text": [
      "100%|██████████| 6000/6000 [07:12<00:00, 13.86it/s]\n"
     ]
    },
    {
     "name": "stdout",
     "output_type": "stream",
     "text": [
      "external HCs parsed: 38 of 150\n"
     ]
    },
    {
     "name": "stderr",
     "output_type": "stream",
     "text": [
      "100%|██████████| 6000/6000 [07:12<00:00, 13.87it/s]\n"
     ]
    },
    {
     "name": "stdout",
     "output_type": "stream",
     "text": [
      "external HCs parsed: 39 of 150\n"
     ]
    },
    {
     "name": "stderr",
     "output_type": "stream",
     "text": [
      "100%|██████████| 6000/6000 [07:11<00:00, 13.92it/s]\n"
     ]
    },
    {
     "name": "stdout",
     "output_type": "stream",
     "text": [
      "external HCs parsed: 40 of 150\n"
     ]
    },
    {
     "name": "stderr",
     "output_type": "stream",
     "text": [
      "100%|██████████| 6000/6000 [07:07<00:00, 14.03it/s]\n"
     ]
    },
    {
     "name": "stdout",
     "output_type": "stream",
     "text": [
      "external HCs parsed: 41 of 150\n"
     ]
    },
    {
     "name": "stderr",
     "output_type": "stream",
     "text": [
      "100%|██████████| 6000/6000 [07:13<00:00, 13.84it/s]\n"
     ]
    },
    {
     "name": "stdout",
     "output_type": "stream",
     "text": [
      "external HCs parsed: 42 of 150\n"
     ]
    },
    {
     "name": "stderr",
     "output_type": "stream",
     "text": [
      "100%|██████████| 6000/6000 [07:06<00:00, 14.06it/s]\n"
     ]
    },
    {
     "name": "stdout",
     "output_type": "stream",
     "text": [
      "external HCs parsed: 43 of 150\n"
     ]
    },
    {
     "name": "stderr",
     "output_type": "stream",
     "text": [
      "100%|██████████| 6000/6000 [07:07<00:00, 14.04it/s]\n"
     ]
    },
    {
     "name": "stdout",
     "output_type": "stream",
     "text": [
      "external HCs parsed: 44 of 150\n"
     ]
    },
    {
     "name": "stderr",
     "output_type": "stream",
     "text": [
      "100%|██████████| 6000/6000 [07:08<00:00, 13.99it/s]\n"
     ]
    },
    {
     "name": "stdout",
     "output_type": "stream",
     "text": [
      "external HCs parsed: 45 of 150\n"
     ]
    },
    {
     "name": "stderr",
     "output_type": "stream",
     "text": [
      "100%|██████████| 6000/6000 [07:10<00:00, 13.93it/s]\n"
     ]
    },
    {
     "name": "stdout",
     "output_type": "stream",
     "text": [
      "external HCs parsed: 46 of 150\n"
     ]
    },
    {
     "name": "stderr",
     "output_type": "stream",
     "text": [
      "100%|██████████| 6000/6000 [07:06<00:00, 14.06it/s]\n"
     ]
    },
    {
     "name": "stdout",
     "output_type": "stream",
     "text": [
      "external HCs parsed: 47 of 150\n"
     ]
    },
    {
     "name": "stderr",
     "output_type": "stream",
     "text": [
      "100%|██████████| 6000/6000 [07:11<00:00, 13.91it/s]\n"
     ]
    },
    {
     "name": "stdout",
     "output_type": "stream",
     "text": [
      "external HCs parsed: 48 of 150\n"
     ]
    },
    {
     "name": "stderr",
     "output_type": "stream",
     "text": [
      "100%|██████████| 6000/6000 [07:10<00:00, 13.94it/s]\n"
     ]
    },
    {
     "name": "stdout",
     "output_type": "stream",
     "text": [
      "external HCs parsed: 49 of 150\n"
     ]
    },
    {
     "name": "stderr",
     "output_type": "stream",
     "text": [
      "100%|██████████| 6000/6000 [07:09<00:00, 13.98it/s]\n"
     ]
    },
    {
     "name": "stdout",
     "output_type": "stream",
     "text": [
      "external HCs parsed: 50 of 150\n"
     ]
    },
    {
     "name": "stderr",
     "output_type": "stream",
     "text": [
      "100%|██████████| 6000/6000 [07:08<00:00, 14.00it/s]\n"
     ]
    },
    {
     "name": "stdout",
     "output_type": "stream",
     "text": [
      "external HCs parsed: 51 of 150\n"
     ]
    },
    {
     "name": "stderr",
     "output_type": "stream",
     "text": [
      "100%|██████████| 6000/6000 [07:11<00:00, 13.90it/s]\n"
     ]
    },
    {
     "name": "stdout",
     "output_type": "stream",
     "text": [
      "external HCs parsed: 52 of 150\n"
     ]
    },
    {
     "name": "stderr",
     "output_type": "stream",
     "text": [
      "100%|██████████| 6000/6000 [07:10<00:00, 13.94it/s]\n"
     ]
    },
    {
     "name": "stdout",
     "output_type": "stream",
     "text": [
      "external HCs parsed: 53 of 150\n"
     ]
    },
    {
     "name": "stderr",
     "output_type": "stream",
     "text": [
      "100%|██████████| 6000/6000 [07:11<00:00, 13.92it/s]\n"
     ]
    },
    {
     "name": "stdout",
     "output_type": "stream",
     "text": [
      "external HCs parsed: 54 of 150\n"
     ]
    },
    {
     "name": "stderr",
     "output_type": "stream",
     "text": [
      "100%|██████████| 6000/6000 [07:07<00:00, 14.03it/s]\n"
     ]
    },
    {
     "name": "stdout",
     "output_type": "stream",
     "text": [
      "external HCs parsed: 55 of 150\n"
     ]
    },
    {
     "name": "stderr",
     "output_type": "stream",
     "text": [
      "100%|██████████| 6000/6000 [07:11<00:00, 13.90it/s]\n"
     ]
    },
    {
     "name": "stdout",
     "output_type": "stream",
     "text": [
      "external HCs parsed: 56 of 150\n"
     ]
    },
    {
     "name": "stderr",
     "output_type": "stream",
     "text": [
      "100%|██████████| 6000/6000 [07:06<00:00, 14.07it/s]\n"
     ]
    },
    {
     "name": "stdout",
     "output_type": "stream",
     "text": [
      "external HCs parsed: 57 of 150\n"
     ]
    },
    {
     "name": "stderr",
     "output_type": "stream",
     "text": [
      "100%|██████████| 6000/6000 [07:08<00:00, 14.00it/s]\n"
     ]
    },
    {
     "name": "stdout",
     "output_type": "stream",
     "text": [
      "external HCs parsed: 58 of 150\n"
     ]
    },
    {
     "name": "stderr",
     "output_type": "stream",
     "text": [
      "100%|██████████| 6000/6000 [07:06<00:00, 14.07it/s]\n"
     ]
    },
    {
     "name": "stdout",
     "output_type": "stream",
     "text": [
      "external HCs parsed: 59 of 150\n"
     ]
    },
    {
     "name": "stderr",
     "output_type": "stream",
     "text": [
      "100%|██████████| 6000/6000 [07:10<00:00, 13.94it/s]\n"
     ]
    },
    {
     "name": "stdout",
     "output_type": "stream",
     "text": [
      "external HCs parsed: 60 of 150\n"
     ]
    },
    {
     "name": "stderr",
     "output_type": "stream",
     "text": [
      "100%|██████████| 6000/6000 [07:11<00:00, 13.89it/s]\n"
     ]
    },
    {
     "name": "stdout",
     "output_type": "stream",
     "text": [
      "external HCs parsed: 61 of 150\n"
     ]
    },
    {
     "name": "stderr",
     "output_type": "stream",
     "text": [
      "100%|██████████| 6000/6000 [07:09<00:00, 13.98it/s]\n"
     ]
    },
    {
     "name": "stdout",
     "output_type": "stream",
     "text": [
      "external HCs parsed: 62 of 150\n"
     ]
    },
    {
     "name": "stderr",
     "output_type": "stream",
     "text": [
      "100%|██████████| 6000/6000 [07:12<00:00, 13.88it/s]\n"
     ]
    },
    {
     "name": "stdout",
     "output_type": "stream",
     "text": [
      "external HCs parsed: 63 of 150\n"
     ]
    },
    {
     "name": "stderr",
     "output_type": "stream",
     "text": [
      "100%|██████████| 6000/6000 [07:14<00:00, 13.82it/s]\n"
     ]
    },
    {
     "name": "stdout",
     "output_type": "stream",
     "text": [
      "external HCs parsed: 64 of 150\n"
     ]
    },
    {
     "name": "stderr",
     "output_type": "stream",
     "text": [
      "100%|██████████| 6000/6000 [07:06<00:00, 14.08it/s]\n"
     ]
    },
    {
     "name": "stdout",
     "output_type": "stream",
     "text": [
      "external HCs parsed: 65 of 150\n"
     ]
    },
    {
     "name": "stderr",
     "output_type": "stream",
     "text": [
      "100%|██████████| 6000/6000 [07:07<00:00, 14.02it/s]\n"
     ]
    },
    {
     "name": "stdout",
     "output_type": "stream",
     "text": [
      "external HCs parsed: 66 of 150\n"
     ]
    },
    {
     "name": "stderr",
     "output_type": "stream",
     "text": [
      "100%|██████████| 6000/6000 [07:11<00:00, 13.90it/s]\n"
     ]
    },
    {
     "name": "stdout",
     "output_type": "stream",
     "text": [
      "external HCs parsed: 67 of 150\n"
     ]
    },
    {
     "name": "stderr",
     "output_type": "stream",
     "text": [
      "100%|██████████| 6000/6000 [07:05<00:00, 14.09it/s]\n"
     ]
    },
    {
     "name": "stdout",
     "output_type": "stream",
     "text": [
      "external HCs parsed: 68 of 150\n"
     ]
    },
    {
     "name": "stderr",
     "output_type": "stream",
     "text": [
      "100%|██████████| 6000/6000 [07:06<00:00, 14.08it/s]\n"
     ]
    },
    {
     "name": "stdout",
     "output_type": "stream",
     "text": [
      "external HCs parsed: 69 of 150\n"
     ]
    },
    {
     "name": "stderr",
     "output_type": "stream",
     "text": [
      "100%|██████████| 6000/6000 [07:07<00:00, 14.02it/s]\n"
     ]
    },
    {
     "name": "stdout",
     "output_type": "stream",
     "text": [
      "external HCs parsed: 70 of 150\n"
     ]
    },
    {
     "name": "stderr",
     "output_type": "stream",
     "text": [
      "100%|██████████| 6000/6000 [07:08<00:00, 14.02it/s]\n"
     ]
    },
    {
     "name": "stdout",
     "output_type": "stream",
     "text": [
      "external HCs parsed: 71 of 150\n"
     ]
    },
    {
     "name": "stderr",
     "output_type": "stream",
     "text": [
      "100%|██████████| 6000/6000 [07:09<00:00, 13.96it/s]\n"
     ]
    },
    {
     "name": "stdout",
     "output_type": "stream",
     "text": [
      "external HCs parsed: 72 of 150\n"
     ]
    },
    {
     "name": "stderr",
     "output_type": "stream",
     "text": [
      "100%|██████████| 6000/6000 [07:08<00:00, 13.99it/s]\n"
     ]
    },
    {
     "name": "stdout",
     "output_type": "stream",
     "text": [
      "external HCs parsed: 73 of 150\n"
     ]
    },
    {
     "name": "stderr",
     "output_type": "stream",
     "text": [
      "100%|██████████| 6000/6000 [07:11<00:00, 13.91it/s]\n"
     ]
    },
    {
     "name": "stdout",
     "output_type": "stream",
     "text": [
      "external HCs parsed: 74 of 150\n"
     ]
    },
    {
     "name": "stderr",
     "output_type": "stream",
     "text": [
      "100%|██████████| 6000/6000 [07:07<00:00, 14.04it/s]\n"
     ]
    },
    {
     "name": "stdout",
     "output_type": "stream",
     "text": [
      "external HCs parsed: 75 of 150\n"
     ]
    },
    {
     "name": "stderr",
     "output_type": "stream",
     "text": [
      "100%|██████████| 6000/6000 [07:06<00:00, 14.07it/s]\n"
     ]
    },
    {
     "name": "stdout",
     "output_type": "stream",
     "text": [
      "external HCs parsed: 76 of 150\n"
     ]
    },
    {
     "name": "stderr",
     "output_type": "stream",
     "text": [
      "100%|██████████| 6000/6000 [07:05<00:00, 14.10it/s]\n"
     ]
    },
    {
     "name": "stdout",
     "output_type": "stream",
     "text": [
      "external HCs parsed: 77 of 150\n"
     ]
    },
    {
     "name": "stderr",
     "output_type": "stream",
     "text": [
      "100%|██████████| 6000/6000 [07:09<00:00, 13.98it/s]\n"
     ]
    },
    {
     "name": "stdout",
     "output_type": "stream",
     "text": [
      "external HCs parsed: 78 of 150\n"
     ]
    },
    {
     "name": "stderr",
     "output_type": "stream",
     "text": [
      "100%|██████████| 6000/6000 [07:06<00:00, 14.06it/s]\n"
     ]
    },
    {
     "name": "stdout",
     "output_type": "stream",
     "text": [
      "external HCs parsed: 79 of 150\n"
     ]
    },
    {
     "name": "stderr",
     "output_type": "stream",
     "text": [
      "100%|██████████| 6000/6000 [07:11<00:00, 13.91it/s]\n"
     ]
    },
    {
     "name": "stdout",
     "output_type": "stream",
     "text": [
      "external HCs parsed: 80 of 150\n"
     ]
    },
    {
     "name": "stderr",
     "output_type": "stream",
     "text": [
      "100%|██████████| 6000/6000 [07:06<00:00, 14.07it/s]\n"
     ]
    },
    {
     "name": "stdout",
     "output_type": "stream",
     "text": [
      "external HCs parsed: 81 of 150\n"
     ]
    },
    {
     "name": "stderr",
     "output_type": "stream",
     "text": [
      "100%|██████████| 6000/6000 [07:09<00:00, 13.96it/s]\n"
     ]
    },
    {
     "name": "stdout",
     "output_type": "stream",
     "text": [
      "external HCs parsed: 82 of 150\n"
     ]
    },
    {
     "name": "stderr",
     "output_type": "stream",
     "text": [
      "100%|██████████| 6000/6000 [07:06<00:00, 14.08it/s]\n"
     ]
    },
    {
     "name": "stdout",
     "output_type": "stream",
     "text": [
      "external HCs parsed: 83 of 150\n"
     ]
    },
    {
     "name": "stderr",
     "output_type": "stream",
     "text": [
      "100%|██████████| 6000/6000 [07:08<00:00, 14.01it/s]\n"
     ]
    },
    {
     "name": "stdout",
     "output_type": "stream",
     "text": [
      "external HCs parsed: 84 of 150\n"
     ]
    },
    {
     "name": "stderr",
     "output_type": "stream",
     "text": [
      "100%|██████████| 6000/6000 [07:09<00:00, 13.96it/s]\n"
     ]
    },
    {
     "name": "stdout",
     "output_type": "stream",
     "text": [
      "external HCs parsed: 85 of 150\n"
     ]
    },
    {
     "name": "stderr",
     "output_type": "stream",
     "text": [
      "100%|██████████| 6000/6000 [07:13<00:00, 13.83it/s]\n"
     ]
    },
    {
     "name": "stdout",
     "output_type": "stream",
     "text": [
      "external HCs parsed: 86 of 150\n"
     ]
    },
    {
     "name": "stderr",
     "output_type": "stream",
     "text": [
      "100%|██████████| 6000/6000 [07:08<00:00, 13.99it/s]\n"
     ]
    },
    {
     "name": "stdout",
     "output_type": "stream",
     "text": [
      "external HCs parsed: 87 of 150\n"
     ]
    },
    {
     "name": "stderr",
     "output_type": "stream",
     "text": [
      "100%|██████████| 6000/6000 [07:08<00:00, 13.99it/s]\n"
     ]
    },
    {
     "name": "stdout",
     "output_type": "stream",
     "text": [
      "external HCs parsed: 88 of 150\n"
     ]
    },
    {
     "name": "stderr",
     "output_type": "stream",
     "text": [
      "100%|██████████| 6000/6000 [07:04<00:00, 14.14it/s]\n"
     ]
    },
    {
     "name": "stdout",
     "output_type": "stream",
     "text": [
      "external HCs parsed: 89 of 150\n"
     ]
    },
    {
     "name": "stderr",
     "output_type": "stream",
     "text": [
      "100%|██████████| 6000/6000 [07:10<00:00, 13.95it/s]\n"
     ]
    },
    {
     "name": "stdout",
     "output_type": "stream",
     "text": [
      "external HCs parsed: 90 of 150\n"
     ]
    },
    {
     "name": "stderr",
     "output_type": "stream",
     "text": [
      "100%|██████████| 6000/6000 [07:09<00:00, 13.96it/s]\n"
     ]
    },
    {
     "name": "stdout",
     "output_type": "stream",
     "text": [
      "external HCs parsed: 91 of 150\n"
     ]
    },
    {
     "name": "stderr",
     "output_type": "stream",
     "text": [
      "100%|██████████| 6000/6000 [07:08<00:00, 14.00it/s]\n"
     ]
    },
    {
     "name": "stdout",
     "output_type": "stream",
     "text": [
      "external HCs parsed: 92 of 150\n"
     ]
    },
    {
     "name": "stderr",
     "output_type": "stream",
     "text": [
      "100%|██████████| 6000/6000 [07:05<00:00, 14.11it/s]\n"
     ]
    },
    {
     "name": "stdout",
     "output_type": "stream",
     "text": [
      "external HCs parsed: 93 of 150\n"
     ]
    },
    {
     "name": "stderr",
     "output_type": "stream",
     "text": [
      "100%|██████████| 6000/6000 [07:06<00:00, 14.08it/s]\n"
     ]
    },
    {
     "name": "stdout",
     "output_type": "stream",
     "text": [
      "external HCs parsed: 94 of 150\n"
     ]
    },
    {
     "name": "stderr",
     "output_type": "stream",
     "text": [
      "100%|██████████| 6000/6000 [07:04<00:00, 14.13it/s]\n"
     ]
    },
    {
     "name": "stdout",
     "output_type": "stream",
     "text": [
      "external HCs parsed: 95 of 150\n"
     ]
    },
    {
     "name": "stderr",
     "output_type": "stream",
     "text": [
      "100%|██████████| 6000/6000 [07:12<00:00, 13.88it/s]\n"
     ]
    },
    {
     "name": "stdout",
     "output_type": "stream",
     "text": [
      "external HCs parsed: 96 of 150\n"
     ]
    },
    {
     "name": "stderr",
     "output_type": "stream",
     "text": [
      "100%|██████████| 6000/6000 [07:08<00:00, 14.00it/s]\n"
     ]
    },
    {
     "name": "stdout",
     "output_type": "stream",
     "text": [
      "external HCs parsed: 97 of 150\n"
     ]
    },
    {
     "name": "stderr",
     "output_type": "stream",
     "text": [
      "100%|██████████| 6000/6000 [07:11<00:00, 13.91it/s]\n"
     ]
    },
    {
     "name": "stdout",
     "output_type": "stream",
     "text": [
      "external HCs parsed: 98 of 150\n"
     ]
    },
    {
     "name": "stderr",
     "output_type": "stream",
     "text": [
      "100%|██████████| 6000/6000 [07:09<00:00, 13.98it/s]\n"
     ]
    },
    {
     "name": "stdout",
     "output_type": "stream",
     "text": [
      "external HCs parsed: 99 of 150\n"
     ]
    },
    {
     "name": "stderr",
     "output_type": "stream",
     "text": [
      "100%|██████████| 6000/6000 [07:11<00:00, 13.91it/s]\n"
     ]
    },
    {
     "name": "stdout",
     "output_type": "stream",
     "text": [
      "external HCs parsed: 100 of 150\n"
     ]
    },
    {
     "name": "stderr",
     "output_type": "stream",
     "text": [
      "100%|██████████| 6000/6000 [08:33<00:00, 11.68it/s]\n"
     ]
    },
    {
     "name": "stdout",
     "output_type": "stream",
     "text": [
      "external HCs parsed: 101 of 150\n"
     ]
    },
    {
     "name": "stderr",
     "output_type": "stream",
     "text": [
      "100%|██████████| 6000/6000 [07:19<00:00, 13.67it/s]\n"
     ]
    },
    {
     "name": "stdout",
     "output_type": "stream",
     "text": [
      "external HCs parsed: 102 of 150\n"
     ]
    },
    {
     "name": "stderr",
     "output_type": "stream",
     "text": [
      "100%|██████████| 6000/6000 [07:18<00:00, 13.67it/s]\n"
     ]
    },
    {
     "name": "stdout",
     "output_type": "stream",
     "text": [
      "external HCs parsed: 103 of 150\n"
     ]
    },
    {
     "name": "stderr",
     "output_type": "stream",
     "text": [
      "100%|██████████| 6000/6000 [07:20<00:00, 13.63it/s]\n"
     ]
    },
    {
     "name": "stdout",
     "output_type": "stream",
     "text": [
      "external HCs parsed: 104 of 150\n"
     ]
    },
    {
     "name": "stderr",
     "output_type": "stream",
     "text": [
      "100%|██████████| 6000/6000 [07:19<00:00, 13.64it/s]\n"
     ]
    },
    {
     "name": "stdout",
     "output_type": "stream",
     "text": [
      "external HCs parsed: 105 of 150\n"
     ]
    },
    {
     "name": "stderr",
     "output_type": "stream",
     "text": [
      "100%|██████████| 6000/6000 [07:20<00:00, 13.63it/s]\n"
     ]
    },
    {
     "name": "stdout",
     "output_type": "stream",
     "text": [
      "external HCs parsed: 106 of 150\n"
     ]
    },
    {
     "name": "stderr",
     "output_type": "stream",
     "text": [
      "100%|██████████| 6000/6000 [07:18<00:00, 13.68it/s]\n"
     ]
    },
    {
     "name": "stdout",
     "output_type": "stream",
     "text": [
      "external HCs parsed: 107 of 150\n"
     ]
    },
    {
     "name": "stderr",
     "output_type": "stream",
     "text": [
      "100%|██████████| 6000/6000 [07:22<00:00, 13.57it/s]\n"
     ]
    },
    {
     "name": "stdout",
     "output_type": "stream",
     "text": [
      "external HCs parsed: 108 of 150\n"
     ]
    },
    {
     "name": "stderr",
     "output_type": "stream",
     "text": [
      "100%|██████████| 6000/6000 [07:24<00:00, 13.50it/s]\n"
     ]
    },
    {
     "name": "stdout",
     "output_type": "stream",
     "text": [
      "external HCs parsed: 109 of 150\n"
     ]
    },
    {
     "name": "stderr",
     "output_type": "stream",
     "text": [
      "100%|██████████| 6000/6000 [08:35<00:00, 11.63it/s]\n"
     ]
    },
    {
     "name": "stdout",
     "output_type": "stream",
     "text": [
      "external HCs parsed: 110 of 150\n"
     ]
    },
    {
     "name": "stderr",
     "output_type": "stream",
     "text": [
      "100%|██████████| 6000/6000 [11:53<00:00,  8.41it/s]\n"
     ]
    },
    {
     "name": "stdout",
     "output_type": "stream",
     "text": [
      "external HCs parsed: 111 of 150\n"
     ]
    },
    {
     "name": "stderr",
     "output_type": "stream",
     "text": [
      "100%|██████████| 6000/6000 [12:01<00:00,  8.31it/s]\n"
     ]
    },
    {
     "name": "stdout",
     "output_type": "stream",
     "text": [
      "external HCs parsed: 112 of 150\n"
     ]
    },
    {
     "name": "stderr",
     "output_type": "stream",
     "text": [
      "100%|██████████| 6000/6000 [13:29<00:00,  7.42it/s]\n"
     ]
    },
    {
     "name": "stdout",
     "output_type": "stream",
     "text": [
      "external HCs parsed: 113 of 150\n"
     ]
    },
    {
     "name": "stderr",
     "output_type": "stream",
     "text": [
      "100%|██████████| 6000/6000 [12:01<00:00,  8.31it/s]\n"
     ]
    },
    {
     "name": "stdout",
     "output_type": "stream",
     "text": [
      "external HCs parsed: 114 of 150\n"
     ]
    },
    {
     "name": "stderr",
     "output_type": "stream",
     "text": [
      "100%|██████████| 6000/6000 [08:53<00:00, 11.24it/s]\n"
     ]
    },
    {
     "name": "stdout",
     "output_type": "stream",
     "text": [
      "external HCs parsed: 115 of 150\n"
     ]
    },
    {
     "name": "stderr",
     "output_type": "stream",
     "text": [
      "100%|██████████| 6000/6000 [07:50<00:00, 12.75it/s]\n"
     ]
    },
    {
     "name": "stdout",
     "output_type": "stream",
     "text": [
      "external HCs parsed: 116 of 150\n"
     ]
    },
    {
     "name": "stderr",
     "output_type": "stream",
     "text": [
      "100%|██████████| 6000/6000 [10:35<00:00,  9.44it/s]\n"
     ]
    },
    {
     "name": "stdout",
     "output_type": "stream",
     "text": [
      "external HCs parsed: 117 of 150\n"
     ]
    },
    {
     "name": "stderr",
     "output_type": "stream",
     "text": [
      "100%|██████████| 6000/6000 [11:16<00:00,  8.87it/s]\n"
     ]
    },
    {
     "name": "stdout",
     "output_type": "stream",
     "text": [
      "external HCs parsed: 118 of 150\n"
     ]
    },
    {
     "name": "stderr",
     "output_type": "stream",
     "text": [
      "100%|██████████| 6000/6000 [11:00<00:00,  9.09it/s]\n"
     ]
    },
    {
     "name": "stdout",
     "output_type": "stream",
     "text": [
      "external HCs parsed: 119 of 150\n"
     ]
    },
    {
     "name": "stderr",
     "output_type": "stream",
     "text": [
      "100%|██████████| 6000/6000 [10:45<00:00,  9.29it/s]\n"
     ]
    },
    {
     "name": "stdout",
     "output_type": "stream",
     "text": [
      "external HCs parsed: 120 of 150\n"
     ]
    },
    {
     "name": "stderr",
     "output_type": "stream",
     "text": [
      "100%|██████████| 6000/6000 [07:15<00:00, 13.77it/s]\n"
     ]
    },
    {
     "name": "stdout",
     "output_type": "stream",
     "text": [
      "external HCs parsed: 121 of 150\n"
     ]
    },
    {
     "name": "stderr",
     "output_type": "stream",
     "text": [
      "100%|██████████| 6000/6000 [07:12<00:00, 13.87it/s]\n"
     ]
    },
    {
     "name": "stdout",
     "output_type": "stream",
     "text": [
      "external HCs parsed: 122 of 150\n"
     ]
    },
    {
     "name": "stderr",
     "output_type": "stream",
     "text": [
      "100%|██████████| 6000/6000 [07:09<00:00, 13.96it/s]\n"
     ]
    },
    {
     "name": "stdout",
     "output_type": "stream",
     "text": [
      "external HCs parsed: 123 of 150\n"
     ]
    },
    {
     "name": "stderr",
     "output_type": "stream",
     "text": [
      "100%|██████████| 6000/6000 [07:08<00:00, 14.00it/s]\n"
     ]
    },
    {
     "name": "stdout",
     "output_type": "stream",
     "text": [
      "external HCs parsed: 124 of 150\n"
     ]
    },
    {
     "name": "stderr",
     "output_type": "stream",
     "text": [
      "100%|██████████| 6000/6000 [07:08<00:00, 14.00it/s]\n"
     ]
    },
    {
     "name": "stdout",
     "output_type": "stream",
     "text": [
      "external HCs parsed: 125 of 150\n"
     ]
    },
    {
     "name": "stderr",
     "output_type": "stream",
     "text": [
      "100%|██████████| 6000/6000 [07:11<00:00, 13.92it/s]\n"
     ]
    },
    {
     "name": "stdout",
     "output_type": "stream",
     "text": [
      "external HCs parsed: 126 of 150\n"
     ]
    },
    {
     "name": "stderr",
     "output_type": "stream",
     "text": [
      "100%|██████████| 6000/6000 [07:15<00:00, 13.79it/s]\n"
     ]
    },
    {
     "name": "stdout",
     "output_type": "stream",
     "text": [
      "external HCs parsed: 127 of 150\n"
     ]
    },
    {
     "name": "stderr",
     "output_type": "stream",
     "text": [
      "100%|██████████| 6000/6000 [07:11<00:00, 13.90it/s]\n"
     ]
    },
    {
     "name": "stdout",
     "output_type": "stream",
     "text": [
      "external HCs parsed: 128 of 150\n"
     ]
    },
    {
     "name": "stderr",
     "output_type": "stream",
     "text": [
      "100%|██████████| 6000/6000 [07:10<00:00, 13.94it/s]\n"
     ]
    },
    {
     "name": "stdout",
     "output_type": "stream",
     "text": [
      "external HCs parsed: 129 of 150\n"
     ]
    },
    {
     "name": "stderr",
     "output_type": "stream",
     "text": [
      "100%|██████████| 6000/6000 [07:11<00:00, 13.91it/s]\n"
     ]
    },
    {
     "name": "stdout",
     "output_type": "stream",
     "text": [
      "external HCs parsed: 130 of 150\n"
     ]
    },
    {
     "name": "stderr",
     "output_type": "stream",
     "text": [
      "100%|██████████| 6000/6000 [07:08<00:00, 14.00it/s]\n"
     ]
    },
    {
     "name": "stdout",
     "output_type": "stream",
     "text": [
      "external HCs parsed: 131 of 150\n"
     ]
    },
    {
     "name": "stderr",
     "output_type": "stream",
     "text": [
      "100%|██████████| 6000/6000 [07:07<00:00, 14.04it/s]\n"
     ]
    },
    {
     "name": "stdout",
     "output_type": "stream",
     "text": [
      "external HCs parsed: 132 of 150\n"
     ]
    },
    {
     "name": "stderr",
     "output_type": "stream",
     "text": [
      "100%|██████████| 6000/6000 [07:04<00:00, 14.14it/s]\n"
     ]
    },
    {
     "name": "stdout",
     "output_type": "stream",
     "text": [
      "external HCs parsed: 133 of 150\n"
     ]
    },
    {
     "name": "stderr",
     "output_type": "stream",
     "text": [
      "100%|██████████| 6000/6000 [07:10<00:00, 13.94it/s]\n"
     ]
    },
    {
     "name": "stdout",
     "output_type": "stream",
     "text": [
      "external HCs parsed: 134 of 150\n"
     ]
    },
    {
     "name": "stderr",
     "output_type": "stream",
     "text": [
      "100%|██████████| 6000/6000 [07:03<00:00, 14.16it/s]\n"
     ]
    },
    {
     "name": "stdout",
     "output_type": "stream",
     "text": [
      "external HCs parsed: 135 of 150\n"
     ]
    },
    {
     "name": "stderr",
     "output_type": "stream",
     "text": [
      "100%|██████████| 6000/6000 [07:06<00:00, 14.06it/s]\n"
     ]
    },
    {
     "name": "stdout",
     "output_type": "stream",
     "text": [
      "external HCs parsed: 136 of 150\n"
     ]
    },
    {
     "name": "stderr",
     "output_type": "stream",
     "text": [
      "100%|██████████| 6000/6000 [07:09<00:00, 13.98it/s]\n"
     ]
    },
    {
     "name": "stdout",
     "output_type": "stream",
     "text": [
      "external HCs parsed: 137 of 150\n"
     ]
    },
    {
     "name": "stderr",
     "output_type": "stream",
     "text": [
      " 10%|▉         | 578/6000 [00:41<06:27, 13.99it/s]IOPub message rate exceeded.\n",
      "The notebook server will temporarily stop sending output\n",
      "to the client in order to avoid crashing it.\n",
      "To change this limit, set the config variable\n",
      "`--NotebookApp.iopub_msg_rate_limit`.\n",
      "\n",
      "Current values:\n",
      "NotebookApp.iopub_msg_rate_limit=1000.0 (msgs/sec)\n",
      "NotebookApp.rate_limit_window=3.0 (secs)\n",
      "\n",
      "100%|██████████| 6000/6000 [07:07<00:00, 14.03it/s]\n"
     ]
    },
    {
     "name": "stdout",
     "output_type": "stream",
     "text": [
      "external HCs parsed: 138 of 150\n"
     ]
    },
    {
     "name": "stderr",
     "output_type": "stream",
     "text": [
      "100%|██████████| 6000/6000 [07:07<00:00, 14.03it/s]\n"
     ]
    },
    {
     "name": "stdout",
     "output_type": "stream",
     "text": [
      "external HCs parsed: 139 of 150\n"
     ]
    },
    {
     "name": "stderr",
     "output_type": "stream",
     "text": [
      "100%|██████████| 6000/6000 [07:12<00:00, 13.87it/s]\n"
     ]
    },
    {
     "name": "stdout",
     "output_type": "stream",
     "text": [
      "external HCs parsed: 140 of 150\n"
     ]
    },
    {
     "name": "stderr",
     "output_type": "stream",
     "text": [
      "100%|██████████| 6000/6000 [07:09<00:00, 13.98it/s]\n"
     ]
    },
    {
     "name": "stdout",
     "output_type": "stream",
     "text": [
      "external HCs parsed: 141 of 150\n"
     ]
    },
    {
     "name": "stderr",
     "output_type": "stream",
     "text": [
      "100%|██████████| 6000/6000 [07:09<00:00, 13.95it/s]\n"
     ]
    },
    {
     "name": "stdout",
     "output_type": "stream",
     "text": [
      "external HCs parsed: 142 of 150\n"
     ]
    },
    {
     "name": "stderr",
     "output_type": "stream",
     "text": [
      "100%|██████████| 6000/6000 [07:07<00:00, 14.05it/s]\n"
     ]
    },
    {
     "name": "stdout",
     "output_type": "stream",
     "text": [
      "external HCs parsed: 143 of 150\n"
     ]
    },
    {
     "name": "stderr",
     "output_type": "stream",
     "text": [
      "100%|██████████| 6000/6000 [07:08<00:00, 14.00it/s]\n"
     ]
    },
    {
     "name": "stdout",
     "output_type": "stream",
     "text": [
      "external HCs parsed: 144 of 150\n"
     ]
    },
    {
     "name": "stderr",
     "output_type": "stream",
     "text": [
      "100%|██████████| 6000/6000 [07:12<00:00, 13.86it/s]\n"
     ]
    },
    {
     "name": "stdout",
     "output_type": "stream",
     "text": [
      "external HCs parsed: 145 of 150\n"
     ]
    },
    {
     "name": "stderr",
     "output_type": "stream",
     "text": [
      "100%|██████████| 6000/6000 [07:11<00:00, 13.92it/s]\n"
     ]
    },
    {
     "name": "stdout",
     "output_type": "stream",
     "text": [
      "external HCs parsed: 146 of 150\n"
     ]
    },
    {
     "name": "stderr",
     "output_type": "stream",
     "text": [
      "100%|██████████| 6000/6000 [07:11<00:00, 13.91it/s]\n"
     ]
    },
    {
     "name": "stdout",
     "output_type": "stream",
     "text": [
      "external HCs parsed: 147 of 150\n"
     ]
    },
    {
     "name": "stderr",
     "output_type": "stream",
     "text": [
      "100%|██████████| 6000/6000 [07:10<00:00, 13.94it/s]\n"
     ]
    },
    {
     "name": "stdout",
     "output_type": "stream",
     "text": [
      "external HCs parsed: 148 of 150\n"
     ]
    },
    {
     "name": "stderr",
     "output_type": "stream",
     "text": [
      "100%|██████████| 6000/6000 [07:08<00:00, 14.00it/s]\n"
     ]
    },
    {
     "name": "stdout",
     "output_type": "stream",
     "text": [
      "external HCs parsed: 149 of 150\n"
     ]
    },
    {
     "name": "stderr",
     "output_type": "stream",
     "text": [
      "100%|██████████| 6000/6000 [07:11<00:00, 13.90it/s]\n"
     ]
    },
    {
     "name": "stdout",
     "output_type": "stream",
     "text": [
      "external HCs parsed: 150 of 150\n"
     ]
    },
    {
     "name": "stderr",
     "output_type": "stream",
     "text": [
      "100%|██████████| 6000/6000 [07:06<00:00, 14.07it/s]\n"
     ]
    }
   ],
   "source": [
    "    # Set the trained model weights to a new model to generate external and self-driven predictions\n",
    "    model2=k.models.Sequential()\n",
    "    model2.add(tf.compat.v1.keras.layers.CuDNNLSTM(units = numunits, stateful=True, return_sequences=True, batch_input_shape =(1,None,feats)))\n",
    "    model2.add(layers.Dropout(0.2))  # Adding dropout with a 20% dropout rate\n",
    "    model2.add(layers.Dense(units=feats, kernel_regularizer=regularizers.l2(0.01)))  # Adding L2 regularization with a regularization strength of 0.01\n",
    "\n",
    "    #model2.add(tf.compat.v1.keras.layers.Dense(units=feats))\n",
    "    model2.compile(loss='mse', optimizer=custom_optimizer,metrics=['accuracy'])\n",
    "\n",
    "    # Set model 2 weights from model 1\n",
    "    for l1, l2 in zip(model.layers, model2.layers):\n",
    "      assert l1.get_config().keys()==l2.get_config().keys()\n",
    "    for key, v in l1.get_config().items():\n",
    "        if key=='name':\n",
    "            continue\n",
    "        if not v==l2.get_config()[key]:\n",
    "            print(l1.name, key, 'not matching.', 'Old,new : ', v, l2.get_config()[key], '\\n')\n",
    "\n",
    "    model2.set_weights(model.get_weights())\n",
    "    assert np.all([np.array_equal(w1, w2) for (w1,w2) in zip(model.get_weights(), model2.get_weights())]) \n",
    "\n",
    "    ####  Generate external and self driving signatures for all data\n",
    "   \n",
    "    in_data = all_inputdata_s\n",
    "    ext_drive= trialsamp # externally drive for twice the lookback\n",
    "\n",
    "    HC_ext_concat = np.empty(shape=[0, numunits*2])  # initialize HC storage for external-driving\n",
    "\n",
    "    Predicted_KIN = np.empty(shape = [len(in_data),ext_drive, feats])\n",
    "    \n",
    "    test_ind = np.arange(0, len(all_inputdata_s), 1)  # generate kinematic predictions for all (or specified) indices of the input data\n",
    "    for g in test_ind:\n",
    "        trialnum = g+1\n",
    "        print('external HCs parsed: ' + str(trialnum) + ' of ' + str(len(test_ind))) # Report trial number\n",
    "        model2.layers[0].reset_states([np.zeros((1,numunits)), np.zeros((1,numunits))]) # Initialize model states\n",
    "        # pre-allocate arrays\n",
    "        preds = np.zeros((1, ext_drive, feats))   # model predictions\n",
    "        hcs = np.zeros((2, ext_drive, numunits)) # Model latent states\n",
    "        \n",
    "        # Integrate model forward in time\n",
    "        for i in tqdm(range(trialsamp)):\n",
    "            if i<ext_drive: # Drive externally = one time-step predictions from the true initial state\n",
    "                preds[:,i,:] = model2.predict_step(in_data[g,i,:][None,None,:])\n",
    "            else:           # Self-drive = predict forward in time, using each predicted state as the next initial state\n",
    "                #preds[:,i,:] = model2.predict_step(preds[0,i-1,:][None,None,:])\n",
    "                pass\n",
    "                          \n",
    "            # Store latent states\n",
    "            hcs[:,i,:] = np.array(model2.layers[0].states)[:,0]\n",
    "            # Split into activation and cell states\n",
    "            Hvalues = hcs[0]\n",
    "            Cvalues = np.tanh(hcs[1])\n",
    "            \n",
    "            # Split into self-driven and externally-diven latent states\n",
    "           \n",
    "            Hvalues_ext = Hvalues[0:ext_drive] # extract external Hs\n",
    "\n",
    "            Cvalues_ext = Cvalues[0:ext_drive]\n",
    "\n",
    "            # Concatenate results\n",
    "        \n",
    "            HC_ext =  np.concatenate((Hvalues_ext, Cvalues_ext), axis=1)\n",
    "\n",
    "        # Concatenate results across trials\n",
    "    \n",
    "        HC_ext_concat = np.append(HC_ext_concat, HC_ext, axis = 0)\n",
    "        \n",
    "        # Store model predictions\n",
    "        prediction = preds[0,:,:] # external and self-driven prediction (external drive samples run from 0:ext_drive, self-driven samples run from ext_drive:ext_drive*2 )\n",
    "        in_data_trial = in_data[g] # trial reference kinematics\n",
    "\n",
    "        Predicted_KIN[g] = prediction # store predicted kinematics from each trial in loop\n",
    "        #np.save(savepath + mod_name + 'trial_' + str(g) + '_predictedkinematics.npy',  prediction) # save each trial of predicted kinematics\n",
    "        #np.save(savepath + mod_name + 'trial_' + str(g) + '_referencekinematics.npy', in_data_trial) #save each trial of original/reference kinematics\n",
    "\n",
    "\n",
    "        # Save predicted kinematics\n",
    "        np.save(path + mod_name + model_name  + '_PredictedKinematics_ext_self.npy', Predicted_KIN) # save predicted kinematics (external and self-dricen) from all trials\n",
    "\n",
    "\n",
    "        ExternalDriveHCs = HC_ext_concat # extracted externally driven HCs\n",
    "\n",
    "\n",
    "        # save these held out HCs \n",
    "        np.save(path + mod_name + model_name  + '_extdriveHCs.npy', ExternalDriveHCs)\n",
    "    #scipy.io.savemat(path + mod_name + model_name + '_extdriveHCs.mat', {'ext_drive_sigs': ExternalDriveHCs})"
   ]
  },
  {
   "cell_type": "code",
   "execution_count": 11,
   "id": "ad7fa1cf",
   "metadata": {},
   "outputs": [],
   "source": [
    "# reshape all the input data into a tensor\n",
    "all_inputdata_s = inputdata_s.reshape(trialnum,trialsamp,feats) \n",
    "#all_inputdata_s = np.reshape(inputdata_s, (trialnum,trialsamp,feats), order='F')\n",
    "\n",
    "csvnp = all_inputdata_s #unscaled\n",
    "\n",
    "ExternalDriveHCs = np.load(path + mod_name + model_name + '_extdriveHCs.npy')"
   ]
  },
  {
   "cell_type": "markdown",
   "id": "d3dc2d77",
   "metadata": {},
   "source": [
    "### Generate Phase Averaged PCA Signatures"
   ]
  },
  {
   "cell_type": "code",
   "execution_count": 12,
   "id": "5e4d502d",
   "metadata": {},
   "outputs": [
    {
     "name": "stdout",
     "output_type": "stream",
     "text": [
      "Running phaser\n"
     ]
    }
   ],
   "source": [
    "import fourierseries\n",
    "import util\n",
    "import phaser\n",
    "import dataloader\n",
    "# Preprocess data for a single subject - to be send to modeling frameworks\n",
    "def find_phase(k):\n",
    "    \"\"\"\n",
    "    Detrend and compute the phase estimate using Phaser\n",
    "    INPUT:\n",
    "      k -- dataframe\n",
    "    OUTPUT:\n",
    "      k -- dataframe\n",
    "    \"\"\"\n",
    "    #l = ['hip_flexion_l','hip_flexion_r'] # Phase variables = hip flexion angles\n",
    "    y = np.array(k)\n",
    "    print(y.shape)\n",
    "    y = util.detrend(y.T).T\n",
    "    print(y.shape)\n",
    "    phsr = phaser.Phaser(y=y)\n",
    "    k[:] = phsr.phaserEval(y)[0,:]\n",
    "    return k"
   ]
  },
  {
   "cell_type": "code",
   "execution_count": 13,
   "id": "419475fc",
   "metadata": {},
   "outputs": [],
   "source": [
    "def vonMies(t,t_0, b):\n",
    "    out = np.exp(b*np.cos(t-t_0))/(2*pi*iv(0, b))\n",
    "    return out"
   ]
  },
  {
   "cell_type": "code",
   "execution_count": 14,
   "id": "f070a0f6",
   "metadata": {},
   "outputs": [],
   "source": [
    "def gaitphasegenerator(trial_len,AGRF_phases,PvsNP):\n",
    "    # takes in the length of trial, the ground truth phases for each trial and the paretic side of the subj/trials\n",
    "    # exports a gait phase at each phase transition with zeros between\n",
    "    # Because paretic vs. non-paretic data were swapped in the data the LOCATIONS of gait events need to be swapped in the phases as well to align.\n",
    "    g_phase = np.zeros([trial_len, 1])\n",
    "    for q in range(trial_len-1):\n",
    "        if PvsNP == 'R':\n",
    "            if (g_phaselabels[q+1]-g_phaselabels[q]) ==1: # if transitions are from 1->2,2->3,3->4 then:\n",
    "                if (g_phaselabels[q] ==1 and g_phaselabels[q+1] ==2):\n",
    "                    g_phase[q] = 2 # paretic toe off\n",
    "                if (g_phaselabels[q] ==2 and g_phaselabels[q+1] ==3):\n",
    "                    g_phase[q] = 3 # paretic heel strike\n",
    "                if (g_phaselabels[q] ==3 and g_phaselabels[q+1] ==4):\n",
    "                    g_phase[q] = 4 # non-paretic toe off\n",
    "            elif (g_phaselabels[q+1] ==1 and g_phaselabels[q]) ==4: # OR (g_phaselabels[q+1]-g_phaselabels[q]) == -3  when 4 (RHS) goes to 1 (LTO)\n",
    "                g_phase[q] = 1 #non-paretic heel strike\n",
    "        elif PvsNP =='L': #Flip all the events for the paretic side being reversed\n",
    "            if (g_phaselabels[q+1]-g_phaselabels[q]) ==1: #if transitions are from 1->2,2->3,3->4 then:\n",
    "                if (g_phaselabels[q] ==1 and g_phaselabels[q+1] ==2):\n",
    "                    g_phase[q] = 4\n",
    "                if (g_phaselabels[q] ==2 and g_phaselabels[q+1] ==3):\n",
    "                    g_phase[q] = 1\n",
    "                if (g_phaselabels[q] ==3 and g_phaselabels[q+1] ==4):\n",
    "                    g_phase[q] = 2\n",
    "            elif (g_phaselabels[q+1] ==1 and g_phaselabels[q]) ==4:\n",
    "                g_phase[q] = 3\n",
    "    return g_phase"
   ]
  },
  {
   "cell_type": "code",
   "execution_count": 15,
   "id": "ee0d59ce",
   "metadata": {},
   "outputs": [
    {
     "data": {
      "text/plain": [
       "(150, 6000)"
      ]
     },
     "execution_count": 15,
     "metadata": {},
     "output_type": "execute_result"
    }
   ],
   "source": [
    "datafilepath4 = path + '/gaitphase_label.csv'\n",
    "keydata = read_csv(datafilepath4, header = None)\n",
    "gaitphaselabels = keydata.to_numpy() #convert to numpy array\n",
    "gaitphaselabels.shape"
   ]
  },
  {
   "cell_type": "code",
   "execution_count": 16,
   "id": "2a755d0d",
   "metadata": {},
   "outputs": [],
   "source": [
    "# Create a list of 150 strings containing 'R'\n",
    "PareticSide = ['R' for _ in range(trialnum)]\n",
    "# Print the list to verify\n",
    "#print(PareticSide)"
   ]
  },
  {
   "cell_type": "code",
   "execution_count": 17,
   "id": "b83863a0",
   "metadata": {},
   "outputs": [
    {
     "name": "stdout",
     "output_type": "stream",
     "text": [
      "generating phase averaged PCA signatures\n",
      "['processing trial: 0']\n",
      "['processing trial: 1']\n",
      "['processing trial: 2']\n",
      "['processing trial: 3']\n",
      "['processing trial: 4']\n",
      "['processing trial: 5']\n",
      "['processing trial: 6']\n",
      "['processing trial: 7']\n",
      "['processing trial: 8']\n",
      "['processing trial: 9']\n",
      "['processing trial: 10']\n",
      "['processing trial: 11']\n",
      "['processing trial: 12']\n",
      "['processing trial: 13']\n",
      "['processing trial: 14']\n",
      "['processing trial: 15']\n",
      "['processing trial: 16']\n"
     ]
    },
    {
     "name": "stderr",
     "output_type": "stream",
     "text": [
      "/home/twinner/YA_Analysis/phaser.py:399: UserWarning: PhaserForSample:nCycMismatch\n",
      "  warnings.warn( \"PhaserForSample:nCycMismatch\" )\n"
     ]
    },
    {
     "name": "stdout",
     "output_type": "stream",
     "text": [
      "['processing trial: 17']\n",
      "['processing trial: 18']\n",
      "['processing trial: 19']\n",
      "['processing trial: 20']\n",
      "['processing trial: 21']\n",
      "['processing trial: 22']\n",
      "['processing trial: 23']\n",
      "['processing trial: 24']\n",
      "['processing trial: 25']\n",
      "['processing trial: 26']\n",
      "['processing trial: 27']\n",
      "['processing trial: 28']\n",
      "['processing trial: 29']\n",
      "['processing trial: 30']\n",
      "['processing trial: 31']\n",
      "['processing trial: 32']\n",
      "['processing trial: 33']\n",
      "['processing trial: 34']\n",
      "['processing trial: 35']\n",
      "['processing trial: 36']\n",
      "['processing trial: 37']\n",
      "['processing trial: 38']\n",
      "['processing trial: 39']\n",
      "['processing trial: 40']\n",
      "['processing trial: 41']\n",
      "['processing trial: 42']\n",
      "['processing trial: 43']\n",
      "['processing trial: 44']\n",
      "['processing trial: 45']\n",
      "['processing trial: 46']\n",
      "['processing trial: 47']\n",
      "['processing trial: 48']\n",
      "['processing trial: 49']\n",
      "['processing trial: 50']\n",
      "['processing trial: 51']\n",
      "['processing trial: 52']\n",
      "['processing trial: 53']\n",
      "['processing trial: 54']\n",
      "['processing trial: 55']\n",
      "['processing trial: 56']\n",
      "['processing trial: 57']\n",
      "['processing trial: 58']\n",
      "['processing trial: 59']\n",
      "['processing trial: 60']\n",
      "['processing trial: 61']\n",
      "['processing trial: 62']\n",
      "['processing trial: 63']\n",
      "['processing trial: 64']\n",
      "['processing trial: 65']\n",
      "['processing trial: 66']\n",
      "['processing trial: 67']\n",
      "['processing trial: 68']\n",
      "['processing trial: 69']\n",
      "['processing trial: 70']\n",
      "['processing trial: 71']\n",
      "['processing trial: 72']\n",
      "['processing trial: 73']\n",
      "['processing trial: 74']\n",
      "['processing trial: 75']\n",
      "['processing trial: 76']\n",
      "['processing trial: 77']\n",
      "['processing trial: 78']\n",
      "['processing trial: 79']\n",
      "['processing trial: 80']\n",
      "['processing trial: 81']\n",
      "['processing trial: 82']\n",
      "['processing trial: 83']\n",
      "['processing trial: 84']\n",
      "['processing trial: 85']\n",
      "['processing trial: 86']\n",
      "['processing trial: 87']\n",
      "['processing trial: 88']\n",
      "['processing trial: 89']\n",
      "['processing trial: 90']\n",
      "['processing trial: 91']\n",
      "['processing trial: 92']\n",
      "['processing trial: 93']\n",
      "['processing trial: 94']\n",
      "['processing trial: 95']\n",
      "['processing trial: 96']\n",
      "['processing trial: 97']\n",
      "['processing trial: 98']\n",
      "['processing trial: 99']\n",
      "['processing trial: 100']\n",
      "['processing trial: 101']\n",
      "['processing trial: 102']\n",
      "['processing trial: 103']\n",
      "['processing trial: 104']\n",
      "['processing trial: 105']\n",
      "['processing trial: 106']\n",
      "['processing trial: 107']\n",
      "['processing trial: 108']\n",
      "['processing trial: 109']\n",
      "['processing trial: 110']\n",
      "['processing trial: 111']\n",
      "['processing trial: 112']\n",
      "['processing trial: 113']\n",
      "['processing trial: 114']\n",
      "['processing trial: 115']\n",
      "['processing trial: 116']\n",
      "['processing trial: 117']\n",
      "['processing trial: 118']\n",
      "['processing trial: 119']\n",
      "['processing trial: 120']\n",
      "['processing trial: 121']\n",
      "['processing trial: 122']\n",
      "['processing trial: 123']\n",
      "['processing trial: 124']\n",
      "['processing trial: 125']\n",
      "['processing trial: 126']\n",
      "['processing trial: 127']\n",
      "['processing trial: 128']\n",
      "['processing trial: 129']\n",
      "['processing trial: 130']\n",
      "['processing trial: 131']\n",
      "['processing trial: 132']\n",
      "['processing trial: 133']\n",
      "['processing trial: 134']\n",
      "['processing trial: 135']\n",
      "['processing trial: 136']\n",
      "['processing trial: 137']\n",
      "['processing trial: 138']\n",
      "['processing trial: 139']\n",
      "['processing trial: 140']\n",
      "['processing trial: 141']\n",
      "['processing trial: 142']\n",
      "['processing trial: 143']\n",
      "['processing trial: 144']\n",
      "['processing trial: 145']\n",
      "['processing trial: 146']\n",
      "['processing trial: 147']\n",
      "['processing trial: 148']\n",
      "['processing trial: 149']\n",
      "0\n",
      "18\n",
      "1\n",
      "43\n",
      "2\n",
      "44\n",
      "3\n",
      "27\n",
      "4\n",
      "27\n",
      "5\n",
      "18\n",
      "6\n",
      "19\n",
      "7\n",
      "18\n",
      "8\n",
      "18\n",
      "9\n",
      "32\n",
      "10\n",
      "27\n",
      "11\n",
      "20\n",
      "12\n",
      "19\n",
      "13\n",
      "16\n",
      "14\n",
      "16\n",
      "15\n",
      "16\n",
      "16\n",
      "29\n",
      "17\n",
      "25\n",
      "18\n",
      "17\n",
      "19\n",
      "16\n",
      "20\n",
      "16\n",
      "21\n",
      "14\n",
      "22\n",
      "13\n",
      "23\n",
      "13\n",
      "24\n",
      "13\n",
      "25\n",
      "27\n",
      "26\n",
      "25\n",
      "27\n",
      "19\n",
      "28\n",
      "18\n",
      "29\n",
      "18\n",
      "30\n",
      "18\n",
      "31\n",
      "16\n",
      "32\n",
      "43\n",
      "33\n",
      "44\n",
      "34\n",
      "30\n",
      "35\n",
      "26\n",
      "36\n",
      "21\n",
      "37\n",
      "20\n",
      "38\n",
      "19\n",
      "39\n",
      "17\n",
      "40\n",
      "16\n",
      "41\n",
      "17\n",
      "42\n",
      "16\n",
      "43\n",
      "32\n",
      "44\n",
      "28\n",
      "45\n",
      "21\n",
      "46\n",
      "22\n",
      "47\n",
      "21\n",
      "48\n",
      "20\n",
      "49\n",
      "18\n",
      "50\n",
      "17\n",
      "51\n",
      "43\n",
      "52\n",
      "35\n",
      "53\n",
      "41\n",
      "54\n",
      "22\n",
      "55\n",
      "22\n",
      "56\n",
      "20\n",
      "57\n",
      "20\n",
      "58\n",
      "19\n",
      "59\n",
      "41\n",
      "60\n",
      "41\n",
      "61\n",
      "31\n",
      "62\n",
      "23\n",
      "63\n",
      "17\n",
      "64\n",
      "17\n",
      "65\n",
      "15\n",
      "66\n",
      "16\n",
      "67\n",
      "14\n",
      "68\n",
      "45\n",
      "69\n",
      "15\n",
      "70\n",
      "33\n",
      "71\n",
      "33\n",
      "72\n",
      "19\n",
      "73\n",
      "20\n",
      "74\n",
      "16\n",
      "75\n",
      "15\n",
      "76\n",
      "16\n",
      "77\n",
      "39\n",
      "78\n",
      "42\n",
      "79\n",
      "33\n",
      "80\n",
      "27\n",
      "81\n",
      "19\n",
      "82\n",
      "22\n",
      "83\n",
      "18\n",
      "84\n",
      "17\n",
      "85\n",
      "17\n",
      "86\n",
      "18\n",
      "87\n",
      "20\n",
      "88\n",
      "28\n",
      "89\n",
      "21\n",
      "90\n",
      "19\n",
      "91\n",
      "16\n",
      "92\n",
      "15\n",
      "93\n",
      "15\n",
      "94\n",
      "16\n",
      "95\n",
      "16\n",
      "96\n",
      "14\n",
      "97\n",
      "32\n",
      "98\n",
      "23\n",
      "99\n",
      "21\n",
      "100\n",
      "20\n",
      "101\n",
      "16\n",
      "102\n",
      "17\n",
      "103\n",
      "19\n",
      "104\n",
      "44\n",
      "105\n",
      "27\n",
      "106\n",
      "20\n",
      "107\n",
      "19\n",
      "108\n",
      "17\n",
      "109\n",
      "16\n",
      "110\n",
      "18\n",
      "111\n",
      "42\n",
      "112\n",
      "40\n",
      "113\n",
      "41\n",
      "114\n",
      "31\n",
      "115\n",
      "26\n",
      "116\n",
      "22\n",
      "117\n",
      "22\n",
      "118\n",
      "20\n",
      "119\n",
      "19\n",
      "120\n",
      "19\n",
      "121\n",
      "20\n",
      "122\n",
      "20\n",
      "123\n",
      "34\n",
      "124\n",
      "25\n",
      "125\n",
      "21\n",
      "126\n",
      "20\n",
      "127\n",
      "19\n",
      "128\n",
      "18\n",
      "129\n",
      "20\n",
      "130\n",
      "42\n",
      "131\n",
      "41\n",
      "132\n",
      "29\n",
      "133\n",
      "28\n",
      "134\n",
      "20\n",
      "135\n",
      "19\n",
      "136\n",
      "21\n",
      "137\n",
      "19\n",
      "138\n",
      "19\n",
      "139\n",
      "42\n",
      "140\n",
      "42\n",
      "141\n",
      "31\n",
      "142\n",
      "21\n",
      "143\n",
      "19\n",
      "144\n",
      "19\n",
      "145\n",
      "40\n",
      "146\n",
      "41\n",
      "147\n",
      "41\n",
      "148\n",
      "40\n",
      "149\n",
      "38\n"
     ]
    },
    {
     "name": "stderr",
     "output_type": "stream",
     "text": [
      "/opt/anaconda3/envs/taniel/lib/python3.9/site-packages/sklearn/manifold/_mds.py:299: FutureWarning: The default value of `normalized_stress` will change to `'auto'` in version 1.4. To suppress this warning, manually set the value of `normalized_stress`.\n",
      "  warnings.warn(\n"
     ]
    },
    {
     "data": {
      "image/png": "[encoded data removed]",
      "text/plain": [
       "<Figure size 640x480 with 1 Axes>"
      ]
     },
     "metadata": {},
     "output_type": "display_data"
    }
   ],
   "source": [
    "for j in range(1):\n",
    "\n",
    "    g_phaselabels = gaitphaselabels\n",
    "    phase_out = gaitphasegenerator(trialsamp,g_phaselabels,PareticSide)\n",
    "\n",
    "\n",
    "    # Specify variables for model run instance\n",
    "    \n",
    "    L = 29 # look at reduced PCs\n",
    "\n",
    "    numunits = L # features in dataset\n",
    "    \n",
    "    test_ind = np.arange(0, trialnum, 1)  # run all input data through\n",
    "\n",
    "    ext_drive= trialsamp\n",
    "\n",
    "    # PCA of Kinematics\n",
    "\n",
    "    X = ExternalDriveHCs #PCA of HC_Array\n",
    "\n",
    "    pca = PCA(n_components=numunits) #initialize\n",
    "\n",
    "    X_reduction = pca.fit_transform(X) # X is projected on the first principal components previously extracted from a training set - data is centered here\n",
    "\n",
    "    np.save(path + mod_name + model_name  + '_pca_var.npy', pca.explained_variance_ratio_[0:6])\n",
    "    scipy.io.savemat(path + mod_name + model_name  + '_pca_var.mat', {'Variance_exp': pca.explained_variance_ratio_ })\n",
    "                      \n",
    "    tot_len = trialnum # len of all trials\n",
    "    HC_CellArray = np.empty(shape=[tot_len, ext_drive, X_reduction.shape[1]])\n",
    "    start = 0\n",
    "    last = ext_drive # length of trials\n",
    "    for p in range(tot_len):\n",
    "        HC_CellArray[p]= X_reduction[start:last]\n",
    "        start = start+ext_drive\n",
    "        last = last+ext_drive\n",
    "\n",
    "    scipy.io.savemat(path + mod_name + model_name  + '_PCA_Array.mat', {'HC_CellArray': HC_CellArray})\n",
    "\n",
    "    # Generate SHIFTED phase averaged signatures\n",
    "\n",
    "    print('generating phase averaged PCA signatures')\n",
    "    # phase length = 100\n",
    "    lim = tot_len\n",
    "    \n",
    "    PhaseAveragedPCs = np.empty(shape=[lim, L, 100])\n",
    "    PhaseAveragedPCs_shift = np.empty(shape=[lim, L, 100])\n",
    "    PhaseAveragedPCs_shift_LHS = np.empty(shape=[lim, L, 100]) # align to left heel strike shift\n",
    "\n",
    "    Phase_Variables = np.empty(shape=[lim, trialsamp])\n",
    "    GaitPhases_phsavg = np.empty([0,100])\n",
    "\n",
    "    cyclephase = []\n",
    "    PC_Shifts = np.empty(shape=[lim]) # store phase shift values\n",
    "    # Average orbits initialization\n",
    "    numSegments = 100 # we want each Phase averaged orbit to be 100 sample points long\n",
    "    phaseVals = np.linspace(0, 2*pi, numSegments, endpoint=True) # phases that we want our phase averaged orbits to correspond to\n",
    "    a1 = np.round(phaseVals,1)\n",
    "    kappa = 20\n",
    "\n",
    "    for a in range(lim): #for length of all the trials\n",
    "        print(['processing trial: ' + str(a)])\n",
    "        dats=[] # reset variables after each trial - kinematics\n",
    "        dats2 = [] # reset the HC params\n",
    "\n",
    "        allsigs = np.empty(shape=[100,])\n",
    "        all_phase_var = np.empty(shape=[100,])\n",
    "        PhaseAvgPCs = np.empty(shape=[100])\n",
    "        PhsAvgGaitPhase = np.zeros([100,1])\n",
    "\n",
    "        all_cyclephase = []\n",
    "        raw = all_phaserinputdata_s[a,:,[0,3]] #use hip angles to find phase\n",
    "        raw2 = HC_CellArray[a][:,0:L].T  # extract all the HC data\n",
    "        for b in range(6): #Shai's code does duplication- works better than without duplicating data\n",
    "            dats.append(raw-raw.mean(axis=1)[:,np.newaxis]) #center the HCs data for phase estimation -- this centers each one separately\n",
    "            dats2.append(raw2-raw2.mean(axis=1)[:,np.newaxis])\n",
    "        #rHC = dats2[0] #centered\n",
    "        rHC = raw2 #uncentered\n",
    "        phr = phaser.Phaser(dats) # use centered data from 1st 3 PCs\n",
    "        phi = [ phr.phaserEval( d ) for d in dats ] # extract phase\n",
    "        phi2  =(phi[0].T % (2*pi)); # Take modulo s.t. phase ranges from [0,2*pi]\n",
    "\n",
    "        # Estimate gait phases\n",
    "        g_phaselabels = gaitphaselabels[a]\n",
    "        PVNP = 'R'\n",
    "        phase_out = gaitphasegenerator(trialsamp,g_phaselabels,PVNP)\n",
    "        LHS =  np.where(phase_out == 1)\n",
    "        RTO =  np.where(phase_out == 2)\n",
    "        RHS =  np.where(phase_out == 3)\n",
    "        LTO =  np.where(phase_out== 4)\n",
    "\n",
    "        \n",
    "        # new method\n",
    "        LHS_phase = np.round(statistics.mode(np.round(phi2[LHS[0]],1).flatten()),1)\n",
    "        RTO_phase = np.round(statistics.mode(np.round(phi2[RTO[0]],1).flatten()),1)\n",
    "        RHS_phase = np.round(statistics.mode(np.round(phi2[RHS[0]],1).flatten()),1)\n",
    "        LTO_phase = np.round(statistics.mode(np.round(phi2[LTO[0]],1).flatten()),1)\n",
    "  \n",
    "        LHS_event = np.where(a1  == LHS_phase)\n",
    "        RTO_event = np.where(a1  == RTO_phase)\n",
    "        RHS_event = np.where(a1  == RHS_phase)\n",
    "        LTO_event = np.where(a1  == LTO_phase)\n",
    "        \n",
    "        #display(LHS_event[0][0],RTO_event[0][0],RHS_event[0][0],LTO_event[0][0])\n",
    "        \n",
    "        \n",
    "        PhsAvgGaitPhase[LHS_event[0][0]] = 1\n",
    "        PhsAvgGaitPhase[RTO_event[0][0]] = 2\n",
    "        PhsAvgGaitPhase[RHS_event[0][0]] = 3\n",
    "        PhsAvgGaitPhase[LTO_event[0][0]] = 4\n",
    "     \n",
    "\n",
    "        GaitPhases_phsavg = np.concatenate((GaitPhases_phsavg,PhsAvgGaitPhase.T), axis = 0)\n",
    "\n",
    "        # find average orbits\n",
    "        avgOrbits = np.zeros((numSegments,L)) #initialize avg orbits\n",
    "        phases = np.reshape(phi2,[trialsamp,]) #this was the error!!!!!\n",
    "\n",
    "        for c in range(numSegments): #number of points in final average orbit/phase averaging\n",
    "            vonMiesCurrent = vonMies(phases,phaseVals[c],kappa) # for each value in the num of phase points calculate current\n",
    "            sumVal = np.sum(vonMiesCurrent)\n",
    "\n",
    "            for d in range(L):  # for the number of features or units\n",
    "                data = np.reshape(rHC[d,:],[trialsamp,1])\n",
    "                avgOrbits[c,d] = np.sum(data.T*vonMiesCurrent)/sumVal # phase point (row), feature of PC (column) -- this is generating a value for the 1st phase point of each feature\n",
    "\n",
    "        PhaseAveragedPCs[a] = avgOrbits.T # transform to match overall saving structure as before\n",
    "        phi2 = phi2.reshape(trialsamp,)\n",
    "        Phase_Variables[a] = phi2 # store phase variables for all cycles/features - may need to phase shift these\n",
    "\n",
    "        # Phase shift the data according to PC1 max align with zero phase\n",
    "        PC1_maxloc = np.argmax(PhaseAveragedPCs[a][0]) # only PC1 value (1st max if repeated)\n",
    "        Data2Shift = PhaseAveragedPCs[a]\n",
    "        NewP = np.roll(Data2Shift, -PC1_maxloc,axis=1) #shift backwards to orgin\n",
    "        PC_Shifts[a] = PC1_maxloc\n",
    "        PhaseAveragedPCs_shift[a] = NewP\n",
    "\n",
    "    #### Forward fill/back-fill events for the phase averaged kinematics\n",
    "    GaitPhases_phsavg_fill = np.empty([0,100])\n",
    "    GaitPhases_phsavg_fill_shift = np.empty([lim,100])\n",
    "    GaitPhases_phsavg_fill_shift_LHS = np.empty([lim,100])\n",
    "\n",
    "    for ind in range(len(GaitPhases_phsavg)):\n",
    "        filled_phases = np.zeros([100,1])\n",
    "        gaitindices = np.where(GaitPhases_phsavg[ind] != 0)\n",
    "        if gaitindices[0][0] != 0:\n",
    "            filled_phases[0:gaitindices[0][0]] = GaitPhases_phsavg[ind][gaitindices[0][3]] # first section has to be gait phase from before (so last gait event)\n",
    "            filled_phases[gaitindices[0][0]:gaitindices[0][1]] = GaitPhases_phsavg[ind][gaitindices[0][0]] # second section has to be gait phase from before (so first gait event)\n",
    "            filled_phases[gaitindices[0][1]:gaitindices[0][2]] = GaitPhases_phsavg[ind][gaitindices[0][1]] # third section\n",
    "            filled_phases[gaitindices[0][2]:gaitindices[0][3]] = GaitPhases_phsavg[ind][gaitindices[0][2]]\n",
    "            filled_phases[gaitindices[0][3]:] = GaitPhases_phsavg[ind][gaitindices[0][3]]\n",
    "            GaitPhases_phsavg_fill = np.concatenate((GaitPhases_phsavg_fill,filled_phases.T), axis = 0)\n",
    "\n",
    "        elif gaitindices[0][0] == 0:\n",
    "            filled_phases[gaitindices[0][0]:gaitindices[0][1]] = GaitPhases_phsavg[ind][gaitindices[0][0]] #first section\n",
    "            filled_phases[gaitindices[0][1]:gaitindices[0][2]] = GaitPhases_phsavg[ind][gaitindices[0][1]] #second section\n",
    "            filled_phases[gaitindices[0][2]:gaitindices[0][3]] = GaitPhases_phsavg[ind][gaitindices[0][2]] #third section\n",
    "            filled_phases[gaitindices[0][3]:] = GaitPhases_phsavg[ind][gaitindices[0][3]] #fourth section\n",
    "            GaitPhases_phsavg_fill = np.concatenate((GaitPhases_phsavg_fill,filled_phases.T), axis = 0)\n",
    "\n",
    "    # Phase shift the gait phases to match gait signature shifting\n",
    "    for q in range(len(GaitPhases_phsavg_fill)):\n",
    "        reshape_phs = np.reshape(GaitPhases_phsavg_fill[q],(1,100)) #reshape the\n",
    "        shift = -PC_Shifts[q]\n",
    "        GaitPhases_phsavg_fill_shift[q] = np.roll(reshape_phs,int(shift),axis=1)\n",
    "\n",
    "\n",
    "    np.save(path + mod_name + model_name  + '_PhaseAvgPcs_shift.npy', PhaseAveragedPCs_shift)\n",
    "    scipy.io.savemat(path + mod_name + model_name  + '_PhaseAvgPcs_shift.mat', {'PhaseAvgPCs_shift': PhaseAveragedPCs_shift})\n",
    "\n",
    "    np.save(path + mod_name + model_name  + '_PhaseAvgPcs.npy', PhaseAveragedPCs)\n",
    "    scipy.io.savemat(path + mod_name + model_name  + '_PhaseAvgPcs.mat', {'PhaseAvgPCs': PhaseAveragedPCs})\n",
    "\n",
    "    np.save(path + mod_name + model_name  + '_PhaseVariables.npy', Phase_Variables)\n",
    "    scipy.io.savemat(path + mod_name + model_name  + '_PhaseVariables.mat', {'PhaseVariables': Phase_Variables})\n",
    "\n",
    "    # Store shifted Phase Avg. Gait Phases\n",
    "    np.save(path + mod_name + model_name  + '_ShiftGaitPhase.npy', GaitPhases_phsavg_fill_shift)\n",
    "    scipy.io.savemat(path + mod_name + model_name  + '_ShiftGaitPhase.mat', {'GaitPhase_shift': GaitPhases_phsavg_fill_shift})\n",
    "\n",
    "\n",
    "    # Take the 'phase shifted PC data(aigned to PC 1 max = 0 from phaser arbitrary phase assignment): PhaseAveragedPCs_shift' and associated gait phases:'GaitPhases_phsavg_fill_shift' and shift once more to bring LHS to the origin\n",
    "    for s in range(len(PhaseAveragedPCs_shift)):\n",
    "      print(s)\n",
    "\n",
    "      location = 0\n",
    "      checkdata = GaitPhases_phsavg_fill_shift[s]\n",
    "      for q in range(len(checkdata)-1): #go through the length of phase avg data\n",
    "          #while location == 0:\n",
    "          if (checkdata[q+1] ==1 and checkdata[q]) ==4: #old version\n",
    "          #if (checkdata[q+1] ==2 and checkdata[q]) ==1:\n",
    "            location = q+1\n",
    "          else:\n",
    "            pass\n",
    "\n",
    "      print(location)\n",
    "      Data2Shift = PhaseAveragedPCs_shift[s]\n",
    "      PhaseAveragedPCs_shift_LHS[s] = np.roll(Data2Shift, -location,axis=1) # shift the phase averaged data to align LHS at 0\n",
    "      GaitPhases_phsavg_fill_shift_LHS[s] = np.roll(checkdata, -location,axis=0) # shift the phase averaged gait phases data to align LHS at 0\n",
    "\n",
    "\n",
    "    # Store LHS shifted Phase Avg. PCs and Gait Phases\n",
    "    np.save(path + mod_name + model_name  + '_ShiftGaitPhase_LHS.npy', GaitPhases_phsavg_fill_shift_LHS)\n",
    "    scipy.io.savemat(path + mod_name + model_name  + '_ShiftGaitPhase_LHS.mat', {'GaitPhase_shift_LHS': GaitPhases_phsavg_fill_shift_LHS})\n",
    "\n",
    "    np.save(path + mod_name + model_name  + '_PhaseAvgPcs_shift_LHS.npy', PhaseAveragedPCs_shift_LHS)\n",
    "    scipy.io.savemat(path + mod_name + model_name  + '_PhaseAvgPcs_shift_LHS.mat', {'PhaseAvgPCs_shift_LHS': PhaseAveragedPCs_shift_LHS})\n",
    "\n",
    "\n",
    "    # Concatenate gait signature per trial\n",
    "    # Make a single phase averaged signature per row\n",
    "    PA_shape = PhaseAveragedPCs_shift.shape\n",
    "    gait_sig_size = PA_shape[1]*PA_shape[2]\n",
    "    Gaitsignatures = np.empty(shape = [len(PhaseAveragedPCs_shift_LHS),gait_sig_size]) #change to shifted PCS!\n",
    "    Gaitsignatures_trunc6 = np.empty(shape = [len(PhaseAveragedPCs_shift_LHS),600])\n",
    "    for h in range(len(PhaseAveragedPCs_shift_LHS)):\n",
    "        reshape_sig = PhaseAveragedPCs_shift_LHS[h].reshape(1,gait_sig_size)\n",
    "        Gaitsignatures[h] = reshape_sig[0]\n",
    "        Gaitsignatures_trunc6[h] = reshape_sig[0][0:600] #truncate to 1st 6 PCs\n",
    "    np.save(path + mod_name + model_name  + '_Gaitsignatures_shift.npy', Gaitsignatures)\n",
    "    scipy.io.savemat(path + mod_name + model_name  + '_Gaitsignatures_shift.mat', {'GaitSigs': Gaitsignatures})\n",
    "\n",
    "    np.save(path + mod_name + model_name  + '_Gaitsignatures_trunc6_shift.npy', Gaitsignatures_trunc6)\n",
    "    scipy.io.savemat(path + mod_name + model_name  + '_Gaitsignatures_trunc6_shift.mat', {'GaitSigs': Gaitsignatures_trunc6})\n",
    "\n",
    "\n",
    "    speedlist = speed\n",
    "  \n",
    "    subs= SubjectID\n",
    "\n",
    "    # Mutlidimensional scaling of gait signatures\n",
    "    embedding = MDS(n_components=2)\n",
    "    X_transformed = embedding.fit_transform(Gaitsignatures_trunc6)\n",
    "    np.save(path + mod_name + model_name  + '_MDS_X_transformed.npy', X_transformed)\n",
    "\n",
    "    # MDS plots of ext and self sigs\n",
    "    fig = plt.figure()\n",
    "    plt.scatter(X_transformed[:,0],X_transformed[:,1],c = speedlist)\n",
    "    # Loop for annotation of all points\n",
    "    count = 0\n",
    "    for i in range(len(subs)):\n",
    "        #plt.annotate(subs[i][0] + '_' + str(count), (X_transformed[i,0], X_transformed[i,1] + 0.3))\n",
    "        plt.annotate(str(count), (X_transformed[i,0], X_transformed[i,1] + 0.3))\n",
    "        count = count + 1\n",
    "    plt.savefig(path + mod_name + model_name  +  '_MDS.png', dpi = 300)\n",
    "    #plt.close(fig)# close figure in loop"
   ]
  },
  {
   "cell_type": "code",
   "execution_count": 18,
   "id": "54f06fa6",
   "metadata": {},
   "outputs": [
    {
     "data": {
      "text/plain": [
       "[<matplotlib.lines.Line2D at 0x7f3e67d72b20>,\n",
       " <matplotlib.lines.Line2D at 0x7f3e67d72b80>,\n",
       " <matplotlib.lines.Line2D at 0x7f3e67d72bb0>,\n",
       " <matplotlib.lines.Line2D at 0x7f3e67d72ca0>,\n",
       " <matplotlib.lines.Line2D at 0x7f3e67d72d90>,\n",
       " <matplotlib.lines.Line2D at 0x7f3e67d72e80>,\n",
       " <matplotlib.lines.Line2D at 0x7f3e67d72f70>,\n",
       " <matplotlib.lines.Line2D at 0x7f3e67d970a0>,\n",
       " <matplotlib.lines.Line2D at 0x7f3e67d97190>,\n",
       " <matplotlib.lines.Line2D at 0x7f3e67d97280>,\n",
       " <matplotlib.lines.Line2D at 0x7f3e67d72b50>,\n",
       " <matplotlib.lines.Line2D at 0x7f3e67d97370>,\n",
       " <matplotlib.lines.Line2D at 0x7f3e67d97460>,\n",
       " <matplotlib.lines.Line2D at 0x7f3e67d97610>,\n",
       " <matplotlib.lines.Line2D at 0x7f3e67d97700>,\n",
       " <matplotlib.lines.Line2D at 0x7f3e67d977f0>,\n",
       " <matplotlib.lines.Line2D at 0x7f3e67d978e0>,\n",
       " <matplotlib.lines.Line2D at 0x7f3e67d979d0>,\n",
       " <matplotlib.lines.Line2D at 0x7f3e67d97ac0>,\n",
       " <matplotlib.lines.Line2D at 0x7f3e67d97bb0>,\n",
       " <matplotlib.lines.Line2D at 0x7f3e67d97ca0>,\n",
       " <matplotlib.lines.Line2D at 0x7f3e67d97d90>,\n",
       " <matplotlib.lines.Line2D at 0x7f3e67d97e80>,\n",
       " <matplotlib.lines.Line2D at 0x7f3e67d97f70>,\n",
       " <matplotlib.lines.Line2D at 0x7f3e67d8d0a0>,\n",
       " <matplotlib.lines.Line2D at 0x7f3e67d8d190>,\n",
       " <matplotlib.lines.Line2D at 0x7f3e67d8d280>,\n",
       " <matplotlib.lines.Line2D at 0x7f3e67d8d370>,\n",
       " <matplotlib.lines.Line2D at 0x7f3e67d8d460>,\n",
       " <matplotlib.lines.Line2D at 0x7f3e67d8d550>,\n",
       " <matplotlib.lines.Line2D at 0x7f3e67d8d640>,\n",
       " <matplotlib.lines.Line2D at 0x7f3e67d8d730>,\n",
       " <matplotlib.lines.Line2D at 0x7f3e67d8d820>,\n",
       " <matplotlib.lines.Line2D at 0x7f3e67d8d910>,\n",
       " <matplotlib.lines.Line2D at 0x7f3e67d8da00>,\n",
       " <matplotlib.lines.Line2D at 0x7f3e67d8daf0>,\n",
       " <matplotlib.lines.Line2D at 0x7f3e67d8dbe0>,\n",
       " <matplotlib.lines.Line2D at 0x7f3e67d8dcd0>,\n",
       " <matplotlib.lines.Line2D at 0x7f3e67d8ddc0>,\n",
       " <matplotlib.lines.Line2D at 0x7f3e67d8deb0>,\n",
       " <matplotlib.lines.Line2D at 0x7f3e67d8dfa0>,\n",
       " <matplotlib.lines.Line2D at 0x7f3e67d820d0>,\n",
       " <matplotlib.lines.Line2D at 0x7f3e67d821c0>,\n",
       " <matplotlib.lines.Line2D at 0x7f3e67d822b0>,\n",
       " <matplotlib.lines.Line2D at 0x7f3e67d823a0>,\n",
       " <matplotlib.lines.Line2D at 0x7f3e67d82490>,\n",
       " <matplotlib.lines.Line2D at 0x7f3e67d82580>,\n",
       " <matplotlib.lines.Line2D at 0x7f3e67d82670>,\n",
       " <matplotlib.lines.Line2D at 0x7f3e67d82760>,\n",
       " <matplotlib.lines.Line2D at 0x7f3e67d82850>,\n",
       " <matplotlib.lines.Line2D at 0x7f3e67d82940>,\n",
       " <matplotlib.lines.Line2D at 0x7f3e67d82a30>,\n",
       " <matplotlib.lines.Line2D at 0x7f3e67d82b20>,\n",
       " <matplotlib.lines.Line2D at 0x7f3e67d82c10>,\n",
       " <matplotlib.lines.Line2D at 0x7f3e67d82d00>,\n",
       " <matplotlib.lines.Line2D at 0x7f3e67d82df0>,\n",
       " <matplotlib.lines.Line2D at 0x7f3e67d82ee0>,\n",
       " <matplotlib.lines.Line2D at 0x7f3e67d82fd0>,\n",
       " <matplotlib.lines.Line2D at 0x7f3e67d73100>,\n",
       " <matplotlib.lines.Line2D at 0x7f3e67d731f0>,\n",
       " <matplotlib.lines.Line2D at 0x7f3e67d732e0>,\n",
       " <matplotlib.lines.Line2D at 0x7f3e67d733d0>,\n",
       " <matplotlib.lines.Line2D at 0x7f3e67d734c0>,\n",
       " <matplotlib.lines.Line2D at 0x7f3e67d735b0>,\n",
       " <matplotlib.lines.Line2D at 0x7f3e67d736a0>,\n",
       " <matplotlib.lines.Line2D at 0x7f3e67d73790>,\n",
       " <matplotlib.lines.Line2D at 0x7f3e67d73880>,\n",
       " <matplotlib.lines.Line2D at 0x7f3e67d73970>,\n",
       " <matplotlib.lines.Line2D at 0x7f3e67d73a60>,\n",
       " <matplotlib.lines.Line2D at 0x7f3e67d73b50>,\n",
       " <matplotlib.lines.Line2D at 0x7f3e67d73c40>,\n",
       " <matplotlib.lines.Line2D at 0x7f3e67d73d30>,\n",
       " <matplotlib.lines.Line2D at 0x7f3e67d73e20>,\n",
       " <matplotlib.lines.Line2D at 0x7f3e67d73f10>,\n",
       " <matplotlib.lines.Line2D at 0x7f3e197ce040>,\n",
       " <matplotlib.lines.Line2D at 0x7f3e197ce130>,\n",
       " <matplotlib.lines.Line2D at 0x7f3e197ce220>,\n",
       " <matplotlib.lines.Line2D at 0x7f3e197ce310>,\n",
       " <matplotlib.lines.Line2D at 0x7f3e197ce400>,\n",
       " <matplotlib.lines.Line2D at 0x7f3e197ce4f0>,\n",
       " <matplotlib.lines.Line2D at 0x7f3e197ce5e0>,\n",
       " <matplotlib.lines.Line2D at 0x7f3e197ce6d0>,\n",
       " <matplotlib.lines.Line2D at 0x7f3e197ce7c0>,\n",
       " <matplotlib.lines.Line2D at 0x7f3e197ce8b0>,\n",
       " <matplotlib.lines.Line2D at 0x7f3e197ce9a0>,\n",
       " <matplotlib.lines.Line2D at 0x7f3e197cea90>,\n",
       " <matplotlib.lines.Line2D at 0x7f3e197ceb80>,\n",
       " <matplotlib.lines.Line2D at 0x7f3e197cec70>,\n",
       " <matplotlib.lines.Line2D at 0x7f3e197ced60>,\n",
       " <matplotlib.lines.Line2D at 0x7f3e197cee50>,\n",
       " <matplotlib.lines.Line2D at 0x7f3e197cef40>,\n",
       " <matplotlib.lines.Line2D at 0x7f3e197b7070>,\n",
       " <matplotlib.lines.Line2D at 0x7f3e197b7160>,\n",
       " <matplotlib.lines.Line2D at 0x7f3e197b7250>,\n",
       " <matplotlib.lines.Line2D at 0x7f3e197b7340>,\n",
       " <matplotlib.lines.Line2D at 0x7f3e197b7430>,\n",
       " <matplotlib.lines.Line2D at 0x7f3e197b7520>,\n",
       " <matplotlib.lines.Line2D at 0x7f3e197b7610>,\n",
       " <matplotlib.lines.Line2D at 0x7f3e197b7700>,\n",
       " <matplotlib.lines.Line2D at 0x7f3e197b77f0>,\n",
       " <matplotlib.lines.Line2D at 0x7f3e197b78e0>,\n",
       " <matplotlib.lines.Line2D at 0x7f3e197b79d0>,\n",
       " <matplotlib.lines.Line2D at 0x7f3e197b7ac0>,\n",
       " <matplotlib.lines.Line2D at 0x7f3e197b7bb0>,\n",
       " <matplotlib.lines.Line2D at 0x7f3e197b7ca0>,\n",
       " <matplotlib.lines.Line2D at 0x7f3e197b7d90>,\n",
       " <matplotlib.lines.Line2D at 0x7f3e197b7e80>,\n",
       " <matplotlib.lines.Line2D at 0x7f3e197b7f70>,\n",
       " <matplotlib.lines.Line2D at 0x7f3e197e00a0>,\n",
       " <matplotlib.lines.Line2D at 0x7f3e197e0190>,\n",
       " <matplotlib.lines.Line2D at 0x7f3e197e0280>,\n",
       " <matplotlib.lines.Line2D at 0x7f3e197e0370>,\n",
       " <matplotlib.lines.Line2D at 0x7f3e197e0460>,\n",
       " <matplotlib.lines.Line2D at 0x7f3e197e0550>,\n",
       " <matplotlib.lines.Line2D at 0x7f3e197e0640>,\n",
       " <matplotlib.lines.Line2D at 0x7f3e197e0730>,\n",
       " <matplotlib.lines.Line2D at 0x7f3e197e0820>,\n",
       " <matplotlib.lines.Line2D at 0x7f3e197e0910>,\n",
       " <matplotlib.lines.Line2D at 0x7f3e197e0a00>,\n",
       " <matplotlib.lines.Line2D at 0x7f3e197e0af0>,\n",
       " <matplotlib.lines.Line2D at 0x7f3e197e0be0>,\n",
       " <matplotlib.lines.Line2D at 0x7f3e197e0cd0>,\n",
       " <matplotlib.lines.Line2D at 0x7f3e197e0dc0>,\n",
       " <matplotlib.lines.Line2D at 0x7f3e197e0eb0>,\n",
       " <matplotlib.lines.Line2D at 0x7f3e197e0fa0>,\n",
       " <matplotlib.lines.Line2D at 0x7f3e197cf0d0>,\n",
       " <matplotlib.lines.Line2D at 0x7f3e197cf1c0>,\n",
       " <matplotlib.lines.Line2D at 0x7f3e197cf2b0>,\n",
       " <matplotlib.lines.Line2D at 0x7f3e197cf3a0>,\n",
       " <matplotlib.lines.Line2D at 0x7f3e197cf490>,\n",
       " <matplotlib.lines.Line2D at 0x7f3e197cf580>,\n",
       " <matplotlib.lines.Line2D at 0x7f3e197cf670>,\n",
       " <matplotlib.lines.Line2D at 0x7f3e197cf760>,\n",
       " <matplotlib.lines.Line2D at 0x7f3e197cf850>,\n",
       " <matplotlib.lines.Line2D at 0x7f3e197cf940>,\n",
       " <matplotlib.lines.Line2D at 0x7f3e197cfa30>,\n",
       " <matplotlib.lines.Line2D at 0x7f3e197cfb20>,\n",
       " <matplotlib.lines.Line2D at 0x7f3e197cfc10>,\n",
       " <matplotlib.lines.Line2D at 0x7f3e197cfd00>,\n",
       " <matplotlib.lines.Line2D at 0x7f3e197cfdf0>,\n",
       " <matplotlib.lines.Line2D at 0x7f3e197cfee0>,\n",
       " <matplotlib.lines.Line2D at 0x7f3e197cffd0>,\n",
       " <matplotlib.lines.Line2D at 0x7f3e197c0100>,\n",
       " <matplotlib.lines.Line2D at 0x7f3e197c01f0>,\n",
       " <matplotlib.lines.Line2D at 0x7f3e197c02e0>,\n",
       " <matplotlib.lines.Line2D at 0x7f3e197c03d0>,\n",
       " <matplotlib.lines.Line2D at 0x7f3e197c04c0>,\n",
       " <matplotlib.lines.Line2D at 0x7f3e197c05b0>,\n",
       " <matplotlib.lines.Line2D at 0x7f3e197c06a0>,\n",
       " <matplotlib.lines.Line2D at 0x7f3e197c0790>]"
      ]
     },
     "execution_count": 18,
     "metadata": {},
     "output_type": "execute_result"
    },
    {
     "data": {
      "image/png": "[encoded data removed]",
      "text/plain": [
       "<Figure size 640x480 with 1 Axes>"
      ]
     },
     "metadata": {},
     "output_type": "display_data"
    }
   ],
   "source": [
    "plt.plot(Gaitsignatures_trunc6.T)"
   ]
  },
  {
   "cell_type": "markdown",
   "id": "eb7fc8a0",
   "metadata": {},
   "source": [
    "### Dissimilarity of signatures to AB centroid"
   ]
  },
  {
   "cell_type": "code",
   "execution_count": 19,
   "id": "eae48bf7",
   "metadata": {},
   "outputs": [
    {
     "name": "stderr",
     "output_type": "stream",
     "text": [
      "/opt/anaconda3/envs/taniel/lib/python3.9/site-packages/sklearn/manifold/_mds.py:299: FutureWarning: The default value of `normalized_stress` will change to `'auto'` in version 1.4. To suppress this warning, manually set the value of `normalized_stress`.\n",
      "  warnings.warn(\n"
     ]
    }
   ],
   "source": [
    "import numpy as np\n",
    "from sklearn.manifold import MDS\n",
    "\n",
    "# Step 1: Define your data\n",
    "# Let's assume your data is stored in a (72, 600) numpy array called \"sample_vectors\",\n",
    "# where each row represents a sample vector.\n",
    "\n",
    "sample_vectors = Gaitsignatures_trunc6 # Gait Signatures\n",
    "\n",
    "\n",
    "# Step 3: Compute the dissimilarity matrix\n",
    "dissimilarity_matrix = np.zeros((len(speed), len(speed)))\n",
    "for i in range(len(speed)):\n",
    "    for j in range(len(speed)):\n",
    "        dissimilarity_matrix[i, j] = np.linalg.norm(sample_vectors[i] - sample_vectors[j])\n",
    "\n",
    "        \n",
    "np.save(path + mod_name + model_name  + '_dissimilarity_matrix.npy', dissimilarity_matrix)\n",
    "\n",
    "# Step 4: Perform multidimensional scaling\n",
    "mds = MDS(n_components= 3, dissimilarity='precomputed') # 3D MDS\n",
    "embedding = mds.fit_transform(dissimilarity_matrix)\n",
    "\n",
    "np.save(path + mod_name + model_name  + '_embedding.npy', embedding) #embedding\n",
    "\n",
    "                              "
   ]
  },
  {
   "cell_type": "code",
   "execution_count": 20,
   "id": "0ea80d3d",
   "metadata": {},
   "outputs": [
    {
     "data": {
      "image/png": "[encoded data removed]",
      "text/plain": [
       "<Figure size 640x480 with 1 Axes>"
      ]
     },
     "metadata": {},
     "output_type": "display_data"
    }
   ],
   "source": [
    "import numpy as np\n",
    "import matplotlib.pyplot as plt\n",
    "from mpl_toolkits.mplot3d import Axes3D\n",
    "\n",
    "# Step 8: Plot the MDS embeddings \n",
    "\n",
    "# Step 1: Define your data\n",
    "# Let's assume your embedded points are stored in a (30, 3) numpy array called \"embedding\",\n",
    "# where each row represents the 3D coordinates of a data point.\n",
    "\n",
    "# Step 2: Define your associated vector of numbers\n",
    "# Let's assume your associated vector is stored in a (30,) numpy array called \"associated_vector\",\n",
    "# where each element corresponds to a number associated with a data point.\n",
    "\n",
    "# Step 3: Plot the 3D MDS embeddings\n",
    "fig = plt.figure()\n",
    "ax = fig.add_subplot(111, projection='3d')\n",
    "\n",
    "#markers = ['o', 's', 'D', '^', 'v', '>', '<', 'p', 'P', 'h', 'H', '*', 'x', '+', '.']  # Define marker types for different subjects\n",
    "colors = ['red', 'blue', 'green', 'orange', 'purple', 'yellow', 'cyan', 'magenta', 'yellow','black','olive','teal','indigo','brown','pink','lavender','maroon']  # Define colors for different speeds\n",
    "\n",
    "colorby = SubjectID\n",
    "#speed\n",
    "#SubjectID\n",
    "\n",
    "# Step 4: Scatter plot with unique color coding\n",
    "unique_numbers = np.unique(colorby) #can change to speed, different outcomes\n",
    "num_colors = len(unique_numbers)\n",
    "cmap = plt.get_cmap('tab20')  # You can choose a different colormap if desired\n",
    "\n",
    "for i, number in enumerate(unique_numbers):\n",
    "    indices = np.where(colorby == number)\n",
    "    ax.scatter(embedding[indices, 0], embedding[indices, 1], embedding[indices, 2], s= 150,\n",
    "               c = colors[i])\n",
    " #              c=cmap(i / num_colors), label=f'val: {round(number)}')\n",
    "    \n",
    "for j, number in enumerate(speed):\n",
    "    ax.text(embedding[j, 0], embedding[j, 1], embedding[j, 2],\n",
    "            f'{number}', fontsize=5, color='black', ha='center', va='center')\n",
    "\n",
    "# Step 5: Set plot attributes\n",
    "ax.set_xlabel('Dimension 1')\n",
    "ax.set_ylabel('Dimension 2')\n",
    "ax.set_zlabel('Dimension 3')\n",
    "#ax.legend()\n",
    "plt.title('3D MDS Embeddings with Unique Color Coding')\n",
    "\n",
    "# Step 6: Display the plot\n",
    "plt.show()\n"
   ]
  },
  {
   "cell_type": "markdown",
   "id": "49a37c36",
   "metadata": {},
   "source": [
    "## Classification Accuracy by Subject ID (1, 3-9 subjects) "
   ]
  },
  {
   "cell_type": "code",
   "execution_count": 21,
   "id": "86ed56e1",
   "metadata": {
    "scrolled": false
   },
   "outputs": [
    {
     "name": "stdout",
     "output_type": "stream",
     "text": [
      "Accuracy: 95.33%\n",
      "Confusion Matrix:\n",
      "[[8 0 0 0 0 0 0 0 1 0 0 0 0 0 0 0 0]\n",
      " [0 6 0 0 0 0 1 0 0 0 0 0 0 0 0 0 0]\n",
      " [0 0 9 0 0 0 0 0 0 0 0 0 0 0 0 0 0]\n",
      " [0 0 0 9 0 0 0 0 0 0 0 0 0 0 0 0 0]\n",
      " [0 0 0 0 9 0 0 0 0 0 0 0 0 0 0 0 0]\n",
      " [0 0 0 0 0 9 0 0 0 0 0 0 0 0 0 0 0]\n",
      " [0 0 0 0 0 0 9 0 0 0 0 0 0 0 0 0 0]\n",
      " [0 0 0 0 0 0 0 9 0 0 0 0 0 0 0 0 0]\n",
      " [0 0 0 0 0 0 0 0 9 0 0 0 0 0 0 0 0]\n",
      " [0 0 0 0 0 0 1 0 0 8 0 0 0 0 0 0 0]\n",
      " [0 0 0 0 0 0 0 1 0 0 8 0 0 0 0 0 0]\n",
      " [0 0 0 1 0 0 0 0 0 0 0 7 0 0 0 0 0]\n",
      " [0 0 0 0 0 0 0 0 0 0 0 0 8 0 1 0 0]\n",
      " [0 0 0 0 0 0 0 0 0 0 0 0 0 9 0 0 0]\n",
      " [0 0 0 0 0 0 0 0 0 0 0 0 0 0 9 0 0]\n",
      " [0 0 0 0 0 0 0 0 0 0 0 0 0 0 0 9 0]\n",
      " [0 0 0 0 0 1 0 0 0 0 0 0 0 0 0 0 8]]\n"
     ]
    }
   ],
   "source": [
    "import numpy as np\n",
    "from sklearn.model_selection import LeaveOneOut\n",
    "from sklearn.linear_model import LogisticRegression\n",
    "from sklearn.metrics import accuracy_score, confusion_matrix\n",
    "import warnings\n",
    "\n",
    "# Disable the specific warning\n",
    "warnings.filterwarnings(\"ignore\", category=UserWarning, module=\"sklearn\")\n",
    "\n",
    "# Assuming you have input data X with shape (600, n_features) and output labels y with shape (600,)\n",
    "X = Gaitsignatures_trunc6  # GaitSigs\n",
    "y = np.reshape(SubjectID, (len(speed),)) # Subject numbers\n",
    "\n",
    "# Initialize an empty list to store the predicted labels\n",
    "predicted_labels = []\n",
    "\n",
    "# Perform leave-one-out cross-validation\n",
    "loo = LeaveOneOut()\n",
    "for train_index, test_index in loo.split(X):\n",
    "    X_train, X_test = X[train_index], X[test_index]\n",
    "    y_train, y_test = y[train_index], y[test_index]\n",
    "\n",
    "    # Train the classification model\n",
    "    model = LogisticRegression()\n",
    "    model.fit(X_train, y_train)\n",
    "\n",
    "    # Predict the test sample\n",
    "    y_pred = model.predict(X_test)\n",
    "    predicted_labels.append(y_pred)\n",
    "\n",
    "# Concatenate the predicted labels into a single array\n",
    "predicted_labels = np.concatenate(predicted_labels)\n",
    "\n",
    "# Calculate accuracy score\n",
    "accuracy = accuracy_score(y, predicted_labels)\n",
    "\n",
    "# Calculate confusion matrix\n",
    "confusion_mat = confusion_matrix(y, predicted_labels)\n",
    "\n",
    "# Print results\n",
    "print(\"Accuracy: {:.2f}%\".format(accuracy * 100))\n",
    "print(\"Confusion Matrix:\")\n",
    "print(confusion_mat)"
   ]
  },
  {
   "cell_type": "code",
   "execution_count": 22,
   "id": "04207d3b",
   "metadata": {},
   "outputs": [
    {
     "data": {
      "text/plain": [
       "(150, 2900)"
      ]
     },
     "execution_count": 22,
     "metadata": {},
     "output_type": "execute_result"
    }
   ],
   "source": [
    "Gaitsignatures.shape"
   ]
  },
  {
   "cell_type": "code",
   "execution_count": null,
   "id": "d7cbeabf",
   "metadata": {},
   "outputs": [],
   "source": []
  }
 ],
 "metadata": {
  "kernelspec": {
   "display_name": "Python 3 (ipykernel)",
   "language": "python",
   "name": "python3"
  },
  "language_info": {
   "codemirror_mode": {
    "name": "ipython",
    "version": 3
   },
   "file_extension": ".py",
   "mimetype": "text/x-python",
   "name": "python",
   "nbconvert_exporter": "python",
   "pygments_lexer": "ipython3",
   "version": "3.9.12"
  }
 },
 "nbformat": 4,
 "nbformat_minor": 5
}
